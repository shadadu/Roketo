{
  "cells": [
    {
      "cell_type": "code",
      "execution_count": 1,
      "id": "8fe3320a-fdca-4851-a565-6bcc4282c509",
      "metadata": {
        "id": "8fe3320a-fdca-4851-a565-6bcc4282c509"
      },
      "outputs": [],
      "source": [
        "import torch\n",
        "import torch.nn as nn\n",
        "from transformers import AutoTokenizer, AutoModelForCausalLM, AutoModelForQuestionAnswering, Trainer, TrainingArguments, DataCollatorForLanguageModeling\n",
        "from datasets import load_dataset, Dataset\n",
        "import json\n",
        "import os\n",
        "import accelerate"
      ]
    },
    {
      "cell_type": "code",
      "source": [
        "from google.colab import drive\n",
        "drive.mount('/content/drive')"
      ],
      "metadata": {
        "colab": {
          "base_uri": "https://localhost:8080/"
        },
        "id": "lEvyQxuPxFt_",
        "outputId": "73564b9d-2231-40e0-ab8a-fc70e9a8b8af"
      },
      "id": "lEvyQxuPxFt_",
      "execution_count": 2,
      "outputs": [
        {
          "output_type": "stream",
          "name": "stdout",
          "text": [
            "Drive already mounted at /content/drive; to attempt to forcibly remount, call drive.mount(\"/content/drive\", force_remount=True).\n"
          ]
        }
      ]
    },
    {
      "cell_type": "code",
      "execution_count": 3,
      "id": "1bf9088a-0161-4137-b7fc-494d2a584a21",
      "metadata": {
        "colab": {
          "base_uri": "https://localhost:8080/",
          "height": 35
        },
        "id": "1bf9088a-0161-4137-b7fc-494d2a584a21",
        "outputId": "da88af15-26d3-4424-9807-8d226b05ba69"
      },
      "outputs": [
        {
          "output_type": "execute_result",
          "data": {
            "text/plain": [
              "'/content/drive/MyDrive/Models'"
            ],
            "application/vnd.google.colaboratory.intrinsic+json": {
              "type": "string"
            }
          },
          "metadata": {},
          "execution_count": 3
        }
      ],
      "source": [
        "data_dir = \"/content/drive/MyDrive/Data\"\n",
        "model_dir = \"/content/drive/MyDrive/Models\"\n",
        "model_dir"
      ]
    },
    {
      "cell_type": "code",
      "execution_count": 3,
      "id": "1bffc1e8-6412-4287-a651-b56a4389566d",
      "metadata": {
        "id": "1bffc1e8-6412-4287-a651-b56a4389566d"
      },
      "outputs": [],
      "source": []
    },
    {
      "cell_type": "code",
      "execution_count": 4,
      "id": "5258adb6-4751-4685-ac0c-090369b847f9",
      "metadata": {
        "id": "5258adb6-4751-4685-ac0c-090369b847f9"
      },
      "outputs": [],
      "source": [
        "# ====== Config ======\n",
        "# model_name = \"microsoft/phi-1\"\n",
        "model_name = \"Salesforce/codegen-350M-mono\"\n",
        "json_path = data_dir + \"/qas_data.json\"  # <-- change this\n",
        "output_dir = model_dir + \"/finetuned-roqeto\""
      ]
    },
    {
      "cell_type": "code",
      "execution_count": 5,
      "id": "12986559-8b17-457e-8232-afa78613a827",
      "metadata": {
        "id": "12986559-8b17-457e-8232-afa78613a827"
      },
      "outputs": [],
      "source": [
        "# ====== Load Dataset ======\n",
        "def load_json_dataset(json_path):\n",
        "    with open(json_path, \"r\", encoding=\"utf-8\") as f:\n",
        "        data = json.load(f)\n",
        "    # Convert to Hugging Face Dataset format\n",
        "    return Dataset.from_list([{\n",
        "       \"text\": f\"Question: {item['question']}\\nAnswer: {item['answer']}\"\n",
        "    } for item in data['arxiv']])\n",
        "\n"
      ]
    },
    {
      "cell_type": "code",
      "execution_count": 6,
      "id": "96250f9a-64ce-437c-9251-bd2081050724",
      "metadata": {
        "id": "96250f9a-64ce-437c-9251-bd2081050724"
      },
      "outputs": [],
      "source": [
        "dataset = load_json_dataset(json_path)"
      ]
    },
    {
      "cell_type": "code",
      "execution_count": 7,
      "id": "09617620-96e2-4a5a-96c8-5ba47d1e9d6b",
      "metadata": {
        "colab": {
          "base_uri": "https://localhost:8080/"
        },
        "id": "09617620-96e2-4a5a-96c8-5ba47d1e9d6b",
        "outputId": "98dcd722-412a-4e51-97a2-22f8681ca671"
      },
      "outputs": [
        {
          "output_type": "execute_result",
          "data": {
            "text/plain": [
              "{'text': 'Question: What is the exit velocity of gases?\\nAnswer: Elementary concepts from general physics and thermodynamics have been used to\\nanalyze rocket propulsion. Making some reasonable assumptions, an expression\\nfor the exit velocity of the gases is found. From that expression one can\\nconclude what are the desired properties for a rocket fuel.'}"
            ]
          },
          "metadata": {},
          "execution_count": 7
        }
      ],
      "source": [
        "dataset[0]"
      ]
    },
    {
      "cell_type": "code",
      "execution_count": 7,
      "id": "4ce2a491-451b-4daa-95ce-51fccf27f006",
      "metadata": {
        "id": "4ce2a491-451b-4daa-95ce-51fccf27f006"
      },
      "outputs": [],
      "source": []
    },
    {
      "cell_type": "code",
      "execution_count": 8,
      "id": "c374b545-877d-4ddb-94f2-016adea569c8",
      "metadata": {
        "colab": {
          "base_uri": "https://localhost:8080/"
        },
        "id": "c374b545-877d-4ddb-94f2-016adea569c8",
        "outputId": "96d3de23-a24a-4e45-cc81-c3fbd78fdb75"
      },
      "outputs": [
        {
          "output_type": "stream",
          "name": "stderr",
          "text": [
            "/usr/local/lib/python3.11/dist-packages/huggingface_hub/utils/_auth.py:94: UserWarning: \n",
            "The secret `HF_TOKEN` does not exist in your Colab secrets.\n",
            "To authenticate with the Hugging Face Hub, create a token in your settings tab (https://huggingface.co/settings/tokens), set it as secret in your Google Colab and restart your session.\n",
            "You will be able to reuse this secret in all of your notebooks.\n",
            "Please note that authentication is recommended but still optional to access public models or datasets.\n",
            "  warnings.warn(\n",
            "Some weights of the model checkpoint at Salesforce/codegen-350M-mono were not used when initializing CodeGenForCausalLM: ['transformer.h.0.attn.causal_mask', 'transformer.h.1.attn.causal_mask', 'transformer.h.10.attn.causal_mask', 'transformer.h.11.attn.causal_mask', 'transformer.h.12.attn.causal_mask', 'transformer.h.13.attn.causal_mask', 'transformer.h.14.attn.causal_mask', 'transformer.h.15.attn.causal_mask', 'transformer.h.16.attn.causal_mask', 'transformer.h.17.attn.causal_mask', 'transformer.h.18.attn.causal_mask', 'transformer.h.19.attn.causal_mask', 'transformer.h.2.attn.causal_mask', 'transformer.h.3.attn.causal_mask', 'transformer.h.4.attn.causal_mask', 'transformer.h.5.attn.causal_mask', 'transformer.h.6.attn.causal_mask', 'transformer.h.7.attn.causal_mask', 'transformer.h.8.attn.causal_mask', 'transformer.h.9.attn.causal_mask']\n",
            "- This IS expected if you are initializing CodeGenForCausalLM from the checkpoint of a model trained on another task or with another architecture (e.g. initializing a BertForSequenceClassification model from a BertForPreTraining model).\n",
            "- This IS NOT expected if you are initializing CodeGenForCausalLM from the checkpoint of a model that you expect to be exactly identical (initializing a BertForSequenceClassification model from a BertForSequenceClassification model).\n"
          ]
        }
      ],
      "source": [
        "\n",
        "# # Load tokenizer and model\n",
        "tokenizer = AutoTokenizer.from_pretrained(model_name)\n",
        "model = AutoModelForCausalLM.from_pretrained(model_name, device_map=\"auto\")\n"
      ]
    },
    {
      "cell_type": "code",
      "execution_count": 9,
      "id": "b7c54da9-8838-42ea-ba50-036fc0a7ddea",
      "metadata": {
        "id": "b7c54da9-8838-42ea-ba50-036fc0a7ddea"
      },
      "outputs": [],
      "source": [
        "data_collator = DataCollatorForLanguageModeling(tokenizer=tokenizer, mlm=False)"
      ]
    },
    {
      "cell_type": "code",
      "execution_count": 10,
      "id": "318c939b-524b-4272-988a-8b18e2ae8812",
      "metadata": {
        "colab": {
          "base_uri": "https://localhost:8080/"
        },
        "id": "318c939b-524b-4272-988a-8b18e2ae8812",
        "outputId": "6d88d8ab-4f4c-4347-f21e-3888ee563f2f"
      },
      "outputs": [
        {
          "output_type": "execute_result",
          "data": {
            "text/plain": [
              "1"
            ]
          },
          "metadata": {},
          "execution_count": 10
        }
      ],
      "source": [
        "tokenizer.add_special_tokens({'pad_token': '[PAD]'})"
      ]
    },
    {
      "cell_type": "code",
      "execution_count": 11,
      "id": "89a4196d-2abb-48c5-a17b-5470a22c17a7",
      "metadata": {
        "colab": {
          "base_uri": "https://localhost:8080/",
          "height": 49,
          "referenced_widgets": [
            "95dc04012f4b4e268b494dfc89f895c8",
            "4077191edb2849dc9a269103cd65c8e5",
            "e3b0d70310e24249b9fc887bd4b13023",
            "28689cc58acb4bfeb000591e02da7ee3",
            "7439bd85d84842bb907ace3d618a7566",
            "495ac38bf1444c3197f38af55a553fcb",
            "96f17668569f48038006a4ce7d082c88",
            "22ec6ec6e7054b94a30301c8e578434b",
            "57bfb36a4a5241f2a55fe45c31171cb2",
            "f47bb4b35cd145f48b80d31c8730fa43",
            "2c11b058e7134b87bcf31c423e1aa2ec"
          ]
        },
        "id": "89a4196d-2abb-48c5-a17b-5470a22c17a7",
        "outputId": "f224ee23-0e18-4ab4-c916-145750eb74bb"
      },
      "outputs": [
        {
          "output_type": "display_data",
          "data": {
            "text/plain": [
              "Map:   0%|          | 0/100 [00:00<?, ? examples/s]"
            ],
            "application/vnd.jupyter.widget-view+json": {
              "version_major": 2,
              "version_minor": 0,
              "model_id": "95dc04012f4b4e268b494dfc89f895c8"
            }
          },
          "metadata": {}
        }
      ],
      "source": [
        "# Tokenize the dataset\n",
        "def tokenize(example):\n",
        "    return tokenizer(example[\"text\"], truncation=True, padding=\"max_length\", max_length=512)\n",
        "\n",
        "tokenized_dataset = dataset.map(tokenize, batched=True)"
      ]
    },
    {
      "cell_type": "code",
      "execution_count": 12,
      "id": "af6dc132-53e5-4f0a-bd4d-5b11235a4c36",
      "metadata": {
        "id": "af6dc132-53e5-4f0a-bd4d-5b11235a4c36"
      },
      "outputs": [],
      "source": [
        "data_collator = DataCollatorForLanguageModeling(tokenizer=tokenizer, mlm=False)"
      ]
    },
    {
      "cell_type": "code",
      "execution_count": 12,
      "id": "e49e178a-6c3b-4ce5-8f5e-1399b42e84e8",
      "metadata": {
        "id": "e49e178a-6c3b-4ce5-8f5e-1399b42e84e8"
      },
      "outputs": [],
      "source": []
    },
    {
      "cell_type": "code",
      "execution_count": 13,
      "id": "605ad6e0-029d-4ae2-b95d-505bc94aab63",
      "metadata": {
        "id": "605ad6e0-029d-4ae2-b95d-505bc94aab63"
      },
      "outputs": [],
      "source": [
        "# ====== Training Arguments ======\n",
        "training_args = TrainingArguments(\n",
        "    output_dir=output_dir,\n",
        "    per_device_train_batch_size=4,\n",
        "    num_train_epochs=50,\n",
        "    logging_steps=10,\n",
        "    save_steps=500,\n",
        "    save_total_limit=2,\n",
        "    warmup_steps=10,\n",
        "    weight_decay=0.01,\n",
        "    logging_dir=os.path.join(output_dir, \"logs\"),\n",
        "    fp16=torch.cuda.is_available(),\n",
        "    report_to=\"none\",\n",
        ")"
      ]
    },
    {
      "cell_type": "code",
      "execution_count": 14,
      "id": "b3dd4e62-5919-4a4c-bf48-600a18eae378",
      "metadata": {
        "colab": {
          "base_uri": "https://localhost:8080/"
        },
        "id": "b3dd4e62-5919-4a4c-bf48-600a18eae378",
        "outputId": "4811c732-cd86-4f01-a555-d105150af13a"
      },
      "outputs": [
        {
          "output_type": "stream",
          "name": "stderr",
          "text": [
            "<ipython-input-14-0170af16dc0f>:2: FutureWarning: `tokenizer` is deprecated and will be removed in version 5.0.0 for `Trainer.__init__`. Use `processing_class` instead.\n",
            "  trainer = Trainer(\n"
          ]
        }
      ],
      "source": [
        "# ====== Trainer ======\n",
        "trainer = Trainer(\n",
        "    model=model,\n",
        "    args=training_args,\n",
        "    train_dataset=tokenized_dataset,\n",
        "    tokenizer=tokenizer,\n",
        "    data_collator=data_collator,\n",
        ")"
      ]
    },
    {
      "cell_type": "code",
      "execution_count": 15,
      "id": "e229c665-fd06-46ac-93d8-cdb9fdb39136",
      "metadata": {
        "colab": {
          "base_uri": "https://localhost:8080/",
          "height": 1000
        },
        "id": "e229c665-fd06-46ac-93d8-cdb9fdb39136",
        "outputId": "45f72057-34f1-45d3-b042-ab34df1e3d69"
      },
      "outputs": [
        {
          "output_type": "display_data",
          "data": {
            "text/plain": [
              "<IPython.core.display.HTML object>"
            ],
            "text/html": [
              "\n",
              "    <div>\n",
              "      \n",
              "      <progress value='1250' max='1250' style='width:300px; height:20px; vertical-align: middle;'></progress>\n",
              "      [1250/1250 10:40, Epoch 50/50]\n",
              "    </div>\n",
              "    <table border=\"1\" class=\"dataframe\">\n",
              "  <thead>\n",
              " <tr style=\"text-align: left;\">\n",
              "      <th>Step</th>\n",
              "      <th>Training Loss</th>\n",
              "    </tr>\n",
              "  </thead>\n",
              "  <tbody>\n",
              "    <tr>\n",
              "      <td>10</td>\n",
              "      <td>3.739600</td>\n",
              "    </tr>\n",
              "    <tr>\n",
              "      <td>20</td>\n",
              "      <td>3.767700</td>\n",
              "    </tr>\n",
              "    <tr>\n",
              "      <td>30</td>\n",
              "      <td>3.192600</td>\n",
              "    </tr>\n",
              "    <tr>\n",
              "      <td>40</td>\n",
              "      <td>2.443000</td>\n",
              "    </tr>\n",
              "    <tr>\n",
              "      <td>50</td>\n",
              "      <td>2.352000</td>\n",
              "    </tr>\n",
              "    <tr>\n",
              "      <td>60</td>\n",
              "      <td>1.226600</td>\n",
              "    </tr>\n",
              "    <tr>\n",
              "      <td>70</td>\n",
              "      <td>1.205100</td>\n",
              "    </tr>\n",
              "    <tr>\n",
              "      <td>80</td>\n",
              "      <td>0.807200</td>\n",
              "    </tr>\n",
              "    <tr>\n",
              "      <td>90</td>\n",
              "      <td>0.360400</td>\n",
              "    </tr>\n",
              "    <tr>\n",
              "      <td>100</td>\n",
              "      <td>0.411400</td>\n",
              "    </tr>\n",
              "    <tr>\n",
              "      <td>110</td>\n",
              "      <td>0.162000</td>\n",
              "    </tr>\n",
              "    <tr>\n",
              "      <td>120</td>\n",
              "      <td>0.167700</td>\n",
              "    </tr>\n",
              "    <tr>\n",
              "      <td>130</td>\n",
              "      <td>0.152700</td>\n",
              "    </tr>\n",
              "    <tr>\n",
              "      <td>140</td>\n",
              "      <td>0.130400</td>\n",
              "    </tr>\n",
              "    <tr>\n",
              "      <td>150</td>\n",
              "      <td>0.133800</td>\n",
              "    </tr>\n",
              "    <tr>\n",
              "      <td>160</td>\n",
              "      <td>0.087700</td>\n",
              "    </tr>\n",
              "    <tr>\n",
              "      <td>170</td>\n",
              "      <td>0.111000</td>\n",
              "    </tr>\n",
              "    <tr>\n",
              "      <td>180</td>\n",
              "      <td>0.086800</td>\n",
              "    </tr>\n",
              "    <tr>\n",
              "      <td>190</td>\n",
              "      <td>0.090100</td>\n",
              "    </tr>\n",
              "    <tr>\n",
              "      <td>200</td>\n",
              "      <td>0.080200</td>\n",
              "    </tr>\n",
              "    <tr>\n",
              "      <td>210</td>\n",
              "      <td>0.062500</td>\n",
              "    </tr>\n",
              "    <tr>\n",
              "      <td>220</td>\n",
              "      <td>0.077300</td>\n",
              "    </tr>\n",
              "    <tr>\n",
              "      <td>230</td>\n",
              "      <td>0.074800</td>\n",
              "    </tr>\n",
              "    <tr>\n",
              "      <td>240</td>\n",
              "      <td>0.069100</td>\n",
              "    </tr>\n",
              "    <tr>\n",
              "      <td>250</td>\n",
              "      <td>0.064100</td>\n",
              "    </tr>\n",
              "    <tr>\n",
              "      <td>260</td>\n",
              "      <td>0.045600</td>\n",
              "    </tr>\n",
              "    <tr>\n",
              "      <td>270</td>\n",
              "      <td>0.071800</td>\n",
              "    </tr>\n",
              "    <tr>\n",
              "      <td>280</td>\n",
              "      <td>0.052600</td>\n",
              "    </tr>\n",
              "    <tr>\n",
              "      <td>290</td>\n",
              "      <td>0.060300</td>\n",
              "    </tr>\n",
              "    <tr>\n",
              "      <td>300</td>\n",
              "      <td>0.055800</td>\n",
              "    </tr>\n",
              "    <tr>\n",
              "      <td>310</td>\n",
              "      <td>0.049700</td>\n",
              "    </tr>\n",
              "    <tr>\n",
              "      <td>320</td>\n",
              "      <td>0.048700</td>\n",
              "    </tr>\n",
              "    <tr>\n",
              "      <td>330</td>\n",
              "      <td>0.049400</td>\n",
              "    </tr>\n",
              "    <tr>\n",
              "      <td>340</td>\n",
              "      <td>0.046200</td>\n",
              "    </tr>\n",
              "    <tr>\n",
              "      <td>350</td>\n",
              "      <td>0.053300</td>\n",
              "    </tr>\n",
              "    <tr>\n",
              "      <td>360</td>\n",
              "      <td>0.034100</td>\n",
              "    </tr>\n",
              "    <tr>\n",
              "      <td>370</td>\n",
              "      <td>0.047400</td>\n",
              "    </tr>\n",
              "    <tr>\n",
              "      <td>380</td>\n",
              "      <td>0.038500</td>\n",
              "    </tr>\n",
              "    <tr>\n",
              "      <td>390</td>\n",
              "      <td>0.039000</td>\n",
              "    </tr>\n",
              "    <tr>\n",
              "      <td>400</td>\n",
              "      <td>0.047400</td>\n",
              "    </tr>\n",
              "    <tr>\n",
              "      <td>410</td>\n",
              "      <td>0.042600</td>\n",
              "    </tr>\n",
              "    <tr>\n",
              "      <td>420</td>\n",
              "      <td>0.042700</td>\n",
              "    </tr>\n",
              "    <tr>\n",
              "      <td>430</td>\n",
              "      <td>0.039100</td>\n",
              "    </tr>\n",
              "    <tr>\n",
              "      <td>440</td>\n",
              "      <td>0.038100</td>\n",
              "    </tr>\n",
              "    <tr>\n",
              "      <td>450</td>\n",
              "      <td>0.036200</td>\n",
              "    </tr>\n",
              "    <tr>\n",
              "      <td>460</td>\n",
              "      <td>0.032700</td>\n",
              "    </tr>\n",
              "    <tr>\n",
              "      <td>470</td>\n",
              "      <td>0.037100</td>\n",
              "    </tr>\n",
              "    <tr>\n",
              "      <td>480</td>\n",
              "      <td>0.033500</td>\n",
              "    </tr>\n",
              "    <tr>\n",
              "      <td>490</td>\n",
              "      <td>0.033700</td>\n",
              "    </tr>\n",
              "    <tr>\n",
              "      <td>500</td>\n",
              "      <td>0.037900</td>\n",
              "    </tr>\n",
              "    <tr>\n",
              "      <td>510</td>\n",
              "      <td>0.033200</td>\n",
              "    </tr>\n",
              "    <tr>\n",
              "      <td>520</td>\n",
              "      <td>0.031800</td>\n",
              "    </tr>\n",
              "    <tr>\n",
              "      <td>530</td>\n",
              "      <td>0.026000</td>\n",
              "    </tr>\n",
              "    <tr>\n",
              "      <td>540</td>\n",
              "      <td>0.026900</td>\n",
              "    </tr>\n",
              "    <tr>\n",
              "      <td>550</td>\n",
              "      <td>0.036900</td>\n",
              "    </tr>\n",
              "    <tr>\n",
              "      <td>560</td>\n",
              "      <td>0.028000</td>\n",
              "    </tr>\n",
              "    <tr>\n",
              "      <td>570</td>\n",
              "      <td>0.028500</td>\n",
              "    </tr>\n",
              "    <tr>\n",
              "      <td>580</td>\n",
              "      <td>0.029500</td>\n",
              "    </tr>\n",
              "    <tr>\n",
              "      <td>590</td>\n",
              "      <td>0.029400</td>\n",
              "    </tr>\n",
              "    <tr>\n",
              "      <td>600</td>\n",
              "      <td>0.027300</td>\n",
              "    </tr>\n",
              "    <tr>\n",
              "      <td>610</td>\n",
              "      <td>0.037900</td>\n",
              "    </tr>\n",
              "    <tr>\n",
              "      <td>620</td>\n",
              "      <td>0.029400</td>\n",
              "    </tr>\n",
              "    <tr>\n",
              "      <td>630</td>\n",
              "      <td>0.025200</td>\n",
              "    </tr>\n",
              "    <tr>\n",
              "      <td>640</td>\n",
              "      <td>0.026800</td>\n",
              "    </tr>\n",
              "    <tr>\n",
              "      <td>650</td>\n",
              "      <td>0.028300</td>\n",
              "    </tr>\n",
              "    <tr>\n",
              "      <td>660</td>\n",
              "      <td>0.025600</td>\n",
              "    </tr>\n",
              "    <tr>\n",
              "      <td>670</td>\n",
              "      <td>0.024100</td>\n",
              "    </tr>\n",
              "    <tr>\n",
              "      <td>680</td>\n",
              "      <td>0.023700</td>\n",
              "    </tr>\n",
              "    <tr>\n",
              "      <td>690</td>\n",
              "      <td>0.021500</td>\n",
              "    </tr>\n",
              "    <tr>\n",
              "      <td>700</td>\n",
              "      <td>0.022500</td>\n",
              "    </tr>\n",
              "    <tr>\n",
              "      <td>710</td>\n",
              "      <td>0.019700</td>\n",
              "    </tr>\n",
              "    <tr>\n",
              "      <td>720</td>\n",
              "      <td>0.022000</td>\n",
              "    </tr>\n",
              "    <tr>\n",
              "      <td>730</td>\n",
              "      <td>0.021700</td>\n",
              "    </tr>\n",
              "    <tr>\n",
              "      <td>740</td>\n",
              "      <td>0.019800</td>\n",
              "    </tr>\n",
              "    <tr>\n",
              "      <td>750</td>\n",
              "      <td>0.024100</td>\n",
              "    </tr>\n",
              "    <tr>\n",
              "      <td>760</td>\n",
              "      <td>0.020600</td>\n",
              "    </tr>\n",
              "    <tr>\n",
              "      <td>770</td>\n",
              "      <td>0.020400</td>\n",
              "    </tr>\n",
              "    <tr>\n",
              "      <td>780</td>\n",
              "      <td>0.023100</td>\n",
              "    </tr>\n",
              "    <tr>\n",
              "      <td>790</td>\n",
              "      <td>0.020700</td>\n",
              "    </tr>\n",
              "    <tr>\n",
              "      <td>800</td>\n",
              "      <td>0.021100</td>\n",
              "    </tr>\n",
              "    <tr>\n",
              "      <td>810</td>\n",
              "      <td>0.018300</td>\n",
              "    </tr>\n",
              "    <tr>\n",
              "      <td>820</td>\n",
              "      <td>0.021700</td>\n",
              "    </tr>\n",
              "    <tr>\n",
              "      <td>830</td>\n",
              "      <td>0.019400</td>\n",
              "    </tr>\n",
              "    <tr>\n",
              "      <td>840</td>\n",
              "      <td>0.021000</td>\n",
              "    </tr>\n",
              "    <tr>\n",
              "      <td>850</td>\n",
              "      <td>0.020900</td>\n",
              "    </tr>\n",
              "    <tr>\n",
              "      <td>860</td>\n",
              "      <td>0.020100</td>\n",
              "    </tr>\n",
              "    <tr>\n",
              "      <td>870</td>\n",
              "      <td>0.019600</td>\n",
              "    </tr>\n",
              "    <tr>\n",
              "      <td>880</td>\n",
              "      <td>0.019000</td>\n",
              "    </tr>\n",
              "    <tr>\n",
              "      <td>890</td>\n",
              "      <td>0.021600</td>\n",
              "    </tr>\n",
              "    <tr>\n",
              "      <td>900</td>\n",
              "      <td>0.020500</td>\n",
              "    </tr>\n",
              "    <tr>\n",
              "      <td>910</td>\n",
              "      <td>0.017500</td>\n",
              "    </tr>\n",
              "    <tr>\n",
              "      <td>920</td>\n",
              "      <td>0.020500</td>\n",
              "    </tr>\n",
              "    <tr>\n",
              "      <td>930</td>\n",
              "      <td>0.023200</td>\n",
              "    </tr>\n",
              "    <tr>\n",
              "      <td>940</td>\n",
              "      <td>0.018700</td>\n",
              "    </tr>\n",
              "    <tr>\n",
              "      <td>950</td>\n",
              "      <td>0.020700</td>\n",
              "    </tr>\n",
              "    <tr>\n",
              "      <td>960</td>\n",
              "      <td>0.018100</td>\n",
              "    </tr>\n",
              "    <tr>\n",
              "      <td>970</td>\n",
              "      <td>0.019800</td>\n",
              "    </tr>\n",
              "    <tr>\n",
              "      <td>980</td>\n",
              "      <td>0.021400</td>\n",
              "    </tr>\n",
              "    <tr>\n",
              "      <td>990</td>\n",
              "      <td>0.017600</td>\n",
              "    </tr>\n",
              "    <tr>\n",
              "      <td>1000</td>\n",
              "      <td>0.020800</td>\n",
              "    </tr>\n",
              "    <tr>\n",
              "      <td>1010</td>\n",
              "      <td>0.018300</td>\n",
              "    </tr>\n",
              "    <tr>\n",
              "      <td>1020</td>\n",
              "      <td>0.020500</td>\n",
              "    </tr>\n",
              "    <tr>\n",
              "      <td>1030</td>\n",
              "      <td>0.018700</td>\n",
              "    </tr>\n",
              "    <tr>\n",
              "      <td>1040</td>\n",
              "      <td>0.020800</td>\n",
              "    </tr>\n",
              "    <tr>\n",
              "      <td>1050</td>\n",
              "      <td>0.019700</td>\n",
              "    </tr>\n",
              "    <tr>\n",
              "      <td>1060</td>\n",
              "      <td>0.018900</td>\n",
              "    </tr>\n",
              "    <tr>\n",
              "      <td>1070</td>\n",
              "      <td>0.020100</td>\n",
              "    </tr>\n",
              "    <tr>\n",
              "      <td>1080</td>\n",
              "      <td>0.019200</td>\n",
              "    </tr>\n",
              "    <tr>\n",
              "      <td>1090</td>\n",
              "      <td>0.018800</td>\n",
              "    </tr>\n",
              "    <tr>\n",
              "      <td>1100</td>\n",
              "      <td>0.019000</td>\n",
              "    </tr>\n",
              "    <tr>\n",
              "      <td>1110</td>\n",
              "      <td>0.019000</td>\n",
              "    </tr>\n",
              "    <tr>\n",
              "      <td>1120</td>\n",
              "      <td>0.020000</td>\n",
              "    </tr>\n",
              "    <tr>\n",
              "      <td>1130</td>\n",
              "      <td>0.018500</td>\n",
              "    </tr>\n",
              "    <tr>\n",
              "      <td>1140</td>\n",
              "      <td>0.018700</td>\n",
              "    </tr>\n",
              "    <tr>\n",
              "      <td>1150</td>\n",
              "      <td>0.019200</td>\n",
              "    </tr>\n",
              "    <tr>\n",
              "      <td>1160</td>\n",
              "      <td>0.018500</td>\n",
              "    </tr>\n",
              "    <tr>\n",
              "      <td>1170</td>\n",
              "      <td>0.019400</td>\n",
              "    </tr>\n",
              "    <tr>\n",
              "      <td>1180</td>\n",
              "      <td>0.016900</td>\n",
              "    </tr>\n",
              "    <tr>\n",
              "      <td>1190</td>\n",
              "      <td>0.019400</td>\n",
              "    </tr>\n",
              "    <tr>\n",
              "      <td>1200</td>\n",
              "      <td>0.019300</td>\n",
              "    </tr>\n",
              "    <tr>\n",
              "      <td>1210</td>\n",
              "      <td>0.019200</td>\n",
              "    </tr>\n",
              "    <tr>\n",
              "      <td>1220</td>\n",
              "      <td>0.017300</td>\n",
              "    </tr>\n",
              "    <tr>\n",
              "      <td>1230</td>\n",
              "      <td>0.019700</td>\n",
              "    </tr>\n",
              "    <tr>\n",
              "      <td>1240</td>\n",
              "      <td>0.018200</td>\n",
              "    </tr>\n",
              "    <tr>\n",
              "      <td>1250</td>\n",
              "      <td>0.018100</td>\n",
              "    </tr>\n",
              "  </tbody>\n",
              "</table><p>"
            ]
          },
          "metadata": {}
        },
        {
          "output_type": "execute_result",
          "data": {
            "text/plain": [
              "TrainOutput(global_step=1250, training_loss=0.19056953365802765, metrics={'train_runtime': 641.584, 'train_samples_per_second': 7.793, 'train_steps_per_second': 1.948, 'total_flos': 4673796833280000.0, 'train_loss': 0.19056953365802765, 'epoch': 50.0})"
            ]
          },
          "metadata": {},
          "execution_count": 15
        }
      ],
      "source": [
        "# ====== Train ======\n",
        "trainer.train()"
      ]
    },
    {
      "cell_type": "code",
      "execution_count": 16,
      "id": "82e5cd5d-1cb8-4d1a-9f1d-21e864ca07fb",
      "metadata": {
        "id": "82e5cd5d-1cb8-4d1a-9f1d-21e864ca07fb"
      },
      "outputs": [],
      "source": [
        "def query_model(prompt, max_new_tokens=100):\n",
        "    inputs = tokenizer(prompt, return_tensors=\"pt\").to(model.device)\n",
        "    outputs = model.generate(**inputs, max_new_tokens=max_new_tokens)\n",
        "    return tokenizer.decode(outputs[0], skip_special_tokens=True)"
      ]
    },
    {
      "cell_type": "code",
      "execution_count": 17,
      "id": "d48c8e72-aaae-4b49-b06a-4a40fae5cbdd",
      "metadata": {
        "colab": {
          "base_uri": "https://localhost:8080/"
        },
        "id": "d48c8e72-aaae-4b49-b06a-4a40fae5cbdd",
        "outputId": "dd874bf0-78a0-4daa-db62-586eac569ec5"
      },
      "outputs": [
        {
          "output_type": "stream",
          "name": "stderr",
          "text": [
            "Setting `pad_token_id` to `eos_token_id`:50256 for open-end generation.\n"
          ]
        },
        {
          "output_type": "stream",
          "name": "stdout",
          "text": [
            "Summarize:  Could be used to replace the Russian boosting capacity. The catch is that the rocket that took it up there (Atlas V) was made with Russian engines and all the ones we still have are spoken for.</p>\n",
            " \n",
            "Cygnus has previously launched on the American-made Atlas V rocket. But this booster also uses Russian-made engines. Because of that, the Atlas V was already due to be phased out later this decade after completing two dozen more launches. The Atlas V rocket developer, United Launch Alliance, has taken delivery of all the Russian engines it needs for these flights. Although these missions are all booked, one solution may be for Amazon to give back some of the nine Atlas V launches it has reserved for its Project Kuiper satellite constellation. Another scenario involves launching Cygnus on a Falcon 9 rocket, something Northrop and SpaceX would probably agree upon in an emergency situation.</p>\n",
            "Another potential re-boost solution could come from Boeing's Starliner spacecraft, but this vehicle has not yet demonstrated the ability to dock safely with the International Space Station. And it, too, is reliant upon launching on the Atlas V rocket..</p>\n",
            "The required fuel mass for a given launch date, and an input date, is calculated for a\n",
            "given launch date. The fuel mass for a given launch date is the average of the fuel masses of the\n",
            "launch dates. For some types of fuel, the fuel mass can be quite different, and thus, any\n",
            "launch date must be converted to the corresponding fuel mass. This paper explores the\n",
            "conversion of such a fuel mass to the corresponding fuel mass for a given\n",
            "\n"
          ]
        }
      ],
      "source": [
        "print(query_model(\"Summarize:  Could be used to replace the Russian boosting capacity. The catch is that the rocket that took it up there (Atlas V) was made with Russian engines and all the ones we still have are spoken for.</p>\\n \\nCygnus has previously launched on the American-made Atlas V rocket. But this booster also uses Russian-made engines. Because of that, the Atlas V was already due to be phased out later this decade after completing two dozen more launches. The Atlas V rocket developer, United Launch Alliance, has taken delivery of all the Russian engines it needs for these flights. Although these missions are all booked, one solution may be for Amazon to give back some of the nine Atlas V launches it has reserved for its Project Kuiper satellite constellation. Another scenario involves launching Cygnus on a Falcon 9 rocket, something Northrop and SpaceX would probably agree upon in an emergency situation.</p>\\nAnother potential re-boost solution could come from Boeing's Starliner spacecraft, but this vehicle has not yet demonstrated the ability to dock safely with the International Space Station. And it, too, is reliant upon launching on the Atlas V rocket..\"))"
      ]
    },
    {
      "cell_type": "code",
      "execution_count": 18,
      "id": "a0ec566a-af28-43aa-a609-ff7c01463f07",
      "metadata": {
        "colab": {
          "base_uri": "https://localhost:8080/"
        },
        "id": "a0ec566a-af28-43aa-a609-ff7c01463f07",
        "outputId": "20458247-4f4a-4173-a69a-427543576528"
      },
      "outputs": [
        {
          "output_type": "stream",
          "name": "stderr",
          "text": [
            "Setting `pad_token_id` to `eos_token_id`:50256 for open-end generation.\n"
          ]
        },
        {
          "output_type": "stream",
          "name": "stdout",
          "text": [
            "How to launch a rocket?\n",
            "Answer: Launching a rocket involves managing the significant development\n",
            "limits that are required to survive the ascent. One\n",
            "method is to employ a low-cost observing platform to guide the\n",
            "navigation of the solar system and beyond. A high-power propulsion\n",
            "system is the required fuel for every journey that is developed in\n",
            "this paper. The launch procedure for each journey is discussed and the\n",
            "results are compared. It is possible to redesign the propulsion system to\n",
            "allow smaller fuel fraction of the\n"
          ]
        }
      ],
      "source": [
        "print(query_model(\"How to launch a rocket?\"))"
      ]
    },
    {
      "cell_type": "code",
      "execution_count": 18,
      "id": "c5e88f7f-459b-453b-844a-7989c46cd8f0",
      "metadata": {
        "id": "c5e88f7f-459b-453b-844a-7989c46cd8f0"
      },
      "outputs": [],
      "source": []
    },
    {
      "cell_type": "code",
      "execution_count": 20,
      "id": "ff17d7f7-f22f-40d4-9e37-8b88f7889e14",
      "metadata": {
        "colab": {
          "base_uri": "https://localhost:8080/"
        },
        "id": "ff17d7f7-f22f-40d4-9e37-8b88f7889e14",
        "outputId": "c13b3967-59ef-4c8d-e024-899e25a72ac9"
      },
      "outputs": [
        {
          "output_type": "stream",
          "name": "stderr",
          "text": [
            "Setting `pad_token_id` to `eos_token_id`:50256 for open-end generation.\n"
          ]
        },
        {
          "output_type": "stream",
          "name": "stdout",
          "text": [
            "Explain the external forces that act on a launching rocket.\n",
            "Answer: Emerging studies are geared toward exploring new methods of nuclear rocket\n",
            "propulsion to provide more efficient space transit beyond Earth's orbit. One\n",
            "method is to employ a Fission Fragment Rocket Engine utilizing fissionable\n",
            "layers embedded in a low-density aerogel. A quantitative understanding of\n",
            "particle attenuation is essential for developing a functional prototype that\n",
            "permits fission fragments to escape the layers and contribute to specific\n",
            "impulse rather than being attenuated and generating waste\n"
          ]
        }
      ],
      "source": [
        "# Example usage\n",
        "print(query_model(\"Explain the external forces that act on a launching rocket.\"))"
      ]
    },
    {
      "cell_type": "code",
      "execution_count": 21,
      "id": "9ebcc47d-03ee-4d3c-970b-8f5d295e5af6",
      "metadata": {
        "id": "9ebcc47d-03ee-4d3c-970b-8f5d295e5af6"
      },
      "outputs": [],
      "source": [
        "for param in model.parameters():\n",
        "  param.requires_grad = False  # freeze the model - train adapters later\n",
        "  if param.ndim == 1:\n",
        "    # cast the small parameters (e.g. layernorm) to fp32 for stability\n",
        "    param.data = param.data.to(torch.float32)\n",
        "\n",
        "model.gradient_checkpointing_enable()  # reduce number of stored activations\n",
        "model.enable_input_require_grads()\n",
        "\n",
        "class CastOutputToFloat(nn.Sequential):\n",
        "    def forward(self, x): return super().forward(x).to(torch.float32)"
      ]
    },
    {
      "cell_type": "code",
      "execution_count": 22,
      "id": "f911104d-adcd-4423-ae5c-8b6d7eeb0af3",
      "metadata": {
        "colab": {
          "base_uri": "https://localhost:8080/"
        },
        "id": "f911104d-adcd-4423-ae5c-8b6d7eeb0af3",
        "outputId": "99727227-963d-4956-cede-c8abf1176bc6"
      },
      "outputs": [
        {
          "output_type": "stream",
          "name": "stdout",
          "text": [
            "\n",
            "transformer\n",
            "transformer.wte\n",
            "transformer.drop\n",
            "transformer.h\n",
            "transformer.h.0\n",
            "transformer.h.0.ln_1\n",
            "transformer.h.0.attn\n",
            "transformer.h.0.attn.attn_dropout\n",
            "transformer.h.0.attn.resid_dropout\n",
            "transformer.h.0.attn.qkv_proj\n",
            "transformer.h.0.attn.out_proj\n",
            "transformer.h.0.mlp\n",
            "transformer.h.0.mlp.fc_in\n",
            "transformer.h.0.mlp.fc_out\n",
            "transformer.h.0.mlp.act\n",
            "transformer.h.0.mlp.dropout\n",
            "transformer.h.1\n",
            "transformer.h.1.ln_1\n",
            "transformer.h.1.attn\n",
            "transformer.h.1.attn.attn_dropout\n",
            "transformer.h.1.attn.resid_dropout\n",
            "transformer.h.1.attn.qkv_proj\n",
            "transformer.h.1.attn.out_proj\n",
            "transformer.h.1.mlp\n",
            "transformer.h.1.mlp.fc_in\n",
            "transformer.h.1.mlp.fc_out\n",
            "transformer.h.1.mlp.act\n",
            "transformer.h.1.mlp.dropout\n",
            "transformer.h.2\n",
            "transformer.h.2.ln_1\n",
            "transformer.h.2.attn\n",
            "transformer.h.2.attn.attn_dropout\n",
            "transformer.h.2.attn.resid_dropout\n",
            "transformer.h.2.attn.qkv_proj\n",
            "transformer.h.2.attn.out_proj\n",
            "transformer.h.2.mlp\n",
            "transformer.h.2.mlp.fc_in\n",
            "transformer.h.2.mlp.fc_out\n",
            "transformer.h.2.mlp.act\n",
            "transformer.h.2.mlp.dropout\n",
            "transformer.h.3\n",
            "transformer.h.3.ln_1\n",
            "transformer.h.3.attn\n",
            "transformer.h.3.attn.attn_dropout\n",
            "transformer.h.3.attn.resid_dropout\n",
            "transformer.h.3.attn.qkv_proj\n",
            "transformer.h.3.attn.out_proj\n",
            "transformer.h.3.mlp\n",
            "transformer.h.3.mlp.fc_in\n",
            "transformer.h.3.mlp.fc_out\n",
            "transformer.h.3.mlp.act\n",
            "transformer.h.3.mlp.dropout\n",
            "transformer.h.4\n",
            "transformer.h.4.ln_1\n",
            "transformer.h.4.attn\n",
            "transformer.h.4.attn.attn_dropout\n",
            "transformer.h.4.attn.resid_dropout\n",
            "transformer.h.4.attn.qkv_proj\n",
            "transformer.h.4.attn.out_proj\n",
            "transformer.h.4.mlp\n",
            "transformer.h.4.mlp.fc_in\n",
            "transformer.h.4.mlp.fc_out\n",
            "transformer.h.4.mlp.act\n",
            "transformer.h.4.mlp.dropout\n",
            "transformer.h.5\n",
            "transformer.h.5.ln_1\n",
            "transformer.h.5.attn\n",
            "transformer.h.5.attn.attn_dropout\n",
            "transformer.h.5.attn.resid_dropout\n",
            "transformer.h.5.attn.qkv_proj\n",
            "transformer.h.5.attn.out_proj\n",
            "transformer.h.5.mlp\n",
            "transformer.h.5.mlp.fc_in\n",
            "transformer.h.5.mlp.fc_out\n",
            "transformer.h.5.mlp.act\n",
            "transformer.h.5.mlp.dropout\n",
            "transformer.h.6\n",
            "transformer.h.6.ln_1\n",
            "transformer.h.6.attn\n",
            "transformer.h.6.attn.attn_dropout\n",
            "transformer.h.6.attn.resid_dropout\n",
            "transformer.h.6.attn.qkv_proj\n",
            "transformer.h.6.attn.out_proj\n",
            "transformer.h.6.mlp\n",
            "transformer.h.6.mlp.fc_in\n",
            "transformer.h.6.mlp.fc_out\n",
            "transformer.h.6.mlp.act\n",
            "transformer.h.6.mlp.dropout\n",
            "transformer.h.7\n",
            "transformer.h.7.ln_1\n",
            "transformer.h.7.attn\n",
            "transformer.h.7.attn.attn_dropout\n",
            "transformer.h.7.attn.resid_dropout\n",
            "transformer.h.7.attn.qkv_proj\n",
            "transformer.h.7.attn.out_proj\n",
            "transformer.h.7.mlp\n",
            "transformer.h.7.mlp.fc_in\n",
            "transformer.h.7.mlp.fc_out\n",
            "transformer.h.7.mlp.act\n",
            "transformer.h.7.mlp.dropout\n",
            "transformer.h.8\n",
            "transformer.h.8.ln_1\n",
            "transformer.h.8.attn\n",
            "transformer.h.8.attn.attn_dropout\n",
            "transformer.h.8.attn.resid_dropout\n",
            "transformer.h.8.attn.qkv_proj\n",
            "transformer.h.8.attn.out_proj\n",
            "transformer.h.8.mlp\n",
            "transformer.h.8.mlp.fc_in\n",
            "transformer.h.8.mlp.fc_out\n",
            "transformer.h.8.mlp.act\n",
            "transformer.h.8.mlp.dropout\n",
            "transformer.h.9\n",
            "transformer.h.9.ln_1\n",
            "transformer.h.9.attn\n",
            "transformer.h.9.attn.attn_dropout\n",
            "transformer.h.9.attn.resid_dropout\n",
            "transformer.h.9.attn.qkv_proj\n",
            "transformer.h.9.attn.out_proj\n",
            "transformer.h.9.mlp\n",
            "transformer.h.9.mlp.fc_in\n",
            "transformer.h.9.mlp.fc_out\n",
            "transformer.h.9.mlp.act\n",
            "transformer.h.9.mlp.dropout\n",
            "transformer.h.10\n",
            "transformer.h.10.ln_1\n",
            "transformer.h.10.attn\n",
            "transformer.h.10.attn.attn_dropout\n",
            "transformer.h.10.attn.resid_dropout\n",
            "transformer.h.10.attn.qkv_proj\n",
            "transformer.h.10.attn.out_proj\n",
            "transformer.h.10.mlp\n",
            "transformer.h.10.mlp.fc_in\n",
            "transformer.h.10.mlp.fc_out\n",
            "transformer.h.10.mlp.act\n",
            "transformer.h.10.mlp.dropout\n",
            "transformer.h.11\n",
            "transformer.h.11.ln_1\n",
            "transformer.h.11.attn\n",
            "transformer.h.11.attn.attn_dropout\n",
            "transformer.h.11.attn.resid_dropout\n",
            "transformer.h.11.attn.qkv_proj\n",
            "transformer.h.11.attn.out_proj\n",
            "transformer.h.11.mlp\n",
            "transformer.h.11.mlp.fc_in\n",
            "transformer.h.11.mlp.fc_out\n",
            "transformer.h.11.mlp.act\n",
            "transformer.h.11.mlp.dropout\n",
            "transformer.h.12\n",
            "transformer.h.12.ln_1\n",
            "transformer.h.12.attn\n",
            "transformer.h.12.attn.attn_dropout\n",
            "transformer.h.12.attn.resid_dropout\n",
            "transformer.h.12.attn.qkv_proj\n",
            "transformer.h.12.attn.out_proj\n",
            "transformer.h.12.mlp\n",
            "transformer.h.12.mlp.fc_in\n",
            "transformer.h.12.mlp.fc_out\n",
            "transformer.h.12.mlp.act\n",
            "transformer.h.12.mlp.dropout\n",
            "transformer.h.13\n",
            "transformer.h.13.ln_1\n",
            "transformer.h.13.attn\n",
            "transformer.h.13.attn.attn_dropout\n",
            "transformer.h.13.attn.resid_dropout\n",
            "transformer.h.13.attn.qkv_proj\n",
            "transformer.h.13.attn.out_proj\n",
            "transformer.h.13.mlp\n",
            "transformer.h.13.mlp.fc_in\n",
            "transformer.h.13.mlp.fc_out\n",
            "transformer.h.13.mlp.act\n",
            "transformer.h.13.mlp.dropout\n",
            "transformer.h.14\n",
            "transformer.h.14.ln_1\n",
            "transformer.h.14.attn\n",
            "transformer.h.14.attn.attn_dropout\n",
            "transformer.h.14.attn.resid_dropout\n",
            "transformer.h.14.attn.qkv_proj\n",
            "transformer.h.14.attn.out_proj\n",
            "transformer.h.14.mlp\n",
            "transformer.h.14.mlp.fc_in\n",
            "transformer.h.14.mlp.fc_out\n",
            "transformer.h.14.mlp.act\n",
            "transformer.h.14.mlp.dropout\n",
            "transformer.h.15\n",
            "transformer.h.15.ln_1\n",
            "transformer.h.15.attn\n",
            "transformer.h.15.attn.attn_dropout\n",
            "transformer.h.15.attn.resid_dropout\n",
            "transformer.h.15.attn.qkv_proj\n",
            "transformer.h.15.attn.out_proj\n",
            "transformer.h.15.mlp\n",
            "transformer.h.15.mlp.fc_in\n",
            "transformer.h.15.mlp.fc_out\n",
            "transformer.h.15.mlp.act\n",
            "transformer.h.15.mlp.dropout\n",
            "transformer.h.16\n",
            "transformer.h.16.ln_1\n",
            "transformer.h.16.attn\n",
            "transformer.h.16.attn.attn_dropout\n",
            "transformer.h.16.attn.resid_dropout\n",
            "transformer.h.16.attn.qkv_proj\n",
            "transformer.h.16.attn.out_proj\n",
            "transformer.h.16.mlp\n",
            "transformer.h.16.mlp.fc_in\n",
            "transformer.h.16.mlp.fc_out\n",
            "transformer.h.16.mlp.act\n",
            "transformer.h.16.mlp.dropout\n",
            "transformer.h.17\n",
            "transformer.h.17.ln_1\n",
            "transformer.h.17.attn\n",
            "transformer.h.17.attn.attn_dropout\n",
            "transformer.h.17.attn.resid_dropout\n",
            "transformer.h.17.attn.qkv_proj\n",
            "transformer.h.17.attn.out_proj\n",
            "transformer.h.17.mlp\n",
            "transformer.h.17.mlp.fc_in\n",
            "transformer.h.17.mlp.fc_out\n",
            "transformer.h.17.mlp.act\n",
            "transformer.h.17.mlp.dropout\n",
            "transformer.h.18\n",
            "transformer.h.18.ln_1\n",
            "transformer.h.18.attn\n",
            "transformer.h.18.attn.attn_dropout\n",
            "transformer.h.18.attn.resid_dropout\n",
            "transformer.h.18.attn.qkv_proj\n",
            "transformer.h.18.attn.out_proj\n",
            "transformer.h.18.mlp\n",
            "transformer.h.18.mlp.fc_in\n",
            "transformer.h.18.mlp.fc_out\n",
            "transformer.h.18.mlp.act\n",
            "transformer.h.18.mlp.dropout\n",
            "transformer.h.19\n",
            "transformer.h.19.ln_1\n",
            "transformer.h.19.attn\n",
            "transformer.h.19.attn.attn_dropout\n",
            "transformer.h.19.attn.resid_dropout\n",
            "transformer.h.19.attn.qkv_proj\n",
            "transformer.h.19.attn.out_proj\n",
            "transformer.h.19.mlp\n",
            "transformer.h.19.mlp.fc_in\n",
            "transformer.h.19.mlp.fc_out\n",
            "transformer.h.19.mlp.act\n",
            "transformer.h.19.mlp.dropout\n",
            "transformer.ln_f\n",
            "lm_head\n"
          ]
        }
      ],
      "source": [
        "for name, module in model.named_modules():\n",
        "    print(name)"
      ]
    },
    {
      "cell_type": "code",
      "execution_count": 23,
      "id": "81c77ef5-8a07-4e4f-ba29-87259996343f",
      "metadata": {
        "id": "81c77ef5-8a07-4e4f-ba29-87259996343f"
      },
      "outputs": [],
      "source": [
        "def print_trainable_parameters(model):\n",
        "    \"\"\"\n",
        "    Prints the number of trainable parameters in the model.\n",
        "    \"\"\"\n",
        "    trainable_params = 0\n",
        "    all_param = 0\n",
        "    for _, param in model.named_parameters():\n",
        "        all_param += param.numel()\n",
        "        if param.requires_grad:\n",
        "            trainable_params += param.numel()\n",
        "    print(\n",
        "        f\"trainable params: {trainable_params} || all params: {all_param} || trainable%: {100 * trainable_params / all_param}\"\n",
        "    )"
      ]
    },
    {
      "cell_type": "code",
      "execution_count": 24,
      "id": "4bf683c6-09b0-4be0-9b3a-c7a8d546affb",
      "metadata": {
        "colab": {
          "base_uri": "https://localhost:8080/"
        },
        "id": "4bf683c6-09b0-4be0-9b3a-c7a8d546affb",
        "outputId": "bba1e0a7-19ff-4e30-e6b1-9b301ceef16c"
      },
      "outputs": [
        {
          "output_type": "stream",
          "name": "stdout",
          "text": [
            "trainable params: 1638400 || all params: 358350848 || trainable%: 0.45720555961960496\n"
          ]
        }
      ],
      "source": [
        "from peft import LoraConfig, get_peft_model, TaskType\n",
        "\n",
        "config = LoraConfig(\n",
        "    r=16, #attention heads\n",
        "    lora_alpha=32, #alpha scaling\n",
        "    target_modules=[\"mlp.fc_in\"], #if you know the\n",
        "    lora_dropout=0.05,\n",
        "    bias=\"none\",\n",
        "    task_type=TaskType.QUESTION_ANS # set this for CLM or Seq2Seq\n",
        ")\n",
        "\n",
        "model = get_peft_model(model, config)\n",
        "print_trainable_parameters(model)"
      ]
    },
    {
      "cell_type": "code",
      "execution_count": 25,
      "id": "b606c5cb-a972-47f5-93d2-72a654e3efdb",
      "metadata": {
        "id": "b606c5cb-a972-47f5-93d2-72a654e3efdb"
      },
      "outputs": [],
      "source": [
        "# ====== Training Arguments ======\n",
        "training_args = TrainingArguments(\n",
        "    output_dir=output_dir,\n",
        "    per_device_train_batch_size=4,\n",
        "    num_train_epochs=700,\n",
        "    logging_steps=10,\n",
        "    save_steps=500,\n",
        "    save_total_limit=2,\n",
        "    warmup_steps=10,\n",
        "    weight_decay=0.01,\n",
        "    logging_dir=os.path.join(output_dir, \"logs\"),\n",
        "    fp16=True,\n",
        "    report_to=\"none\",\n",
        ")"
      ]
    },
    {
      "cell_type": "code",
      "execution_count": 26,
      "id": "4bfa24f4-a2da-4e95-a87d-879c7bffa1fe",
      "metadata": {
        "colab": {
          "base_uri": "https://localhost:8080/"
        },
        "id": "4bfa24f4-a2da-4e95-a87d-879c7bffa1fe",
        "outputId": "17d4b2b1-ae3d-4bb3-aa26-203eb965b8b7"
      },
      "outputs": [
        {
          "output_type": "stream",
          "name": "stderr",
          "text": [
            "<ipython-input-26-0170af16dc0f>:2: FutureWarning: `tokenizer` is deprecated and will be removed in version 5.0.0 for `Trainer.__init__`. Use `processing_class` instead.\n",
            "  trainer = Trainer(\n",
            "No label_names provided for model class `PeftModelForQuestionAnswering`. Since `PeftModel` hides base models input arguments, if label_names is not given, label_names can't be set automatically within `Trainer`. Note that empty label_names list will be used instead.\n"
          ]
        }
      ],
      "source": [
        "# ====== Trainer ======\n",
        "trainer = Trainer(\n",
        "    model=model,\n",
        "    args=training_args,\n",
        "    train_dataset=tokenized_dataset,\n",
        "    tokenizer=tokenizer,\n",
        "    data_collator=data_collator,\n",
        ")\n"
      ]
    },
    {
      "cell_type": "code",
      "execution_count": null,
      "id": "0e8452ad-ff19-4e7c-bc6b-9c71c0c01b63",
      "metadata": {
        "colab": {
          "base_uri": "https://localhost:8080/",
          "height": 1000
        },
        "id": "0e8452ad-ff19-4e7c-bc6b-9c71c0c01b63",
        "outputId": "c6079773-92b7-423a-8118-d7eef9971192"
      },
      "outputs": [
        {
          "output_type": "stream",
          "name": "stderr",
          "text": [
            "`use_cache=True` is incompatible with gradient checkpointing. Setting `use_cache=False`...\n"
          ]
        },
        {
          "output_type": "display_data",
          "data": {
            "text/plain": [
              "<IPython.core.display.HTML object>"
            ],
            "text/html": [
              "\n",
              "    <div>\n",
              "      \n",
              "      <progress value='327' max='17500' style='width:300px; height:20px; vertical-align: middle;'></progress>\n",
              "      [  327/17500 02:13 < 1:57:28, 2.44 it/s, Epoch 13.04/700]\n",
              "    </div>\n",
              "    <table border=\"1\" class=\"dataframe\">\n",
              "  <thead>\n",
              " <tr style=\"text-align: left;\">\n",
              "      <th>Step</th>\n",
              "      <th>Training Loss</th>\n",
              "    </tr>\n",
              "  </thead>\n",
              "  <tbody>\n",
              "    <tr>\n",
              "      <td>10</td>\n",
              "      <td>0.019300</td>\n",
              "    </tr>\n",
              "    <tr>\n",
              "      <td>20</td>\n",
              "      <td>0.017200</td>\n",
              "    </tr>\n",
              "    <tr>\n",
              "      <td>30</td>\n",
              "      <td>0.018900</td>\n",
              "    </tr>\n",
              "    <tr>\n",
              "      <td>40</td>\n",
              "      <td>0.018800</td>\n",
              "    </tr>\n",
              "    <tr>\n",
              "      <td>50</td>\n",
              "      <td>0.017000</td>\n",
              "    </tr>\n",
              "    <tr>\n",
              "      <td>60</td>\n",
              "      <td>0.018500</td>\n",
              "    </tr>\n",
              "    <tr>\n",
              "      <td>70</td>\n",
              "      <td>0.018700</td>\n",
              "    </tr>\n",
              "    <tr>\n",
              "      <td>80</td>\n",
              "      <td>0.017400</td>\n",
              "    </tr>\n",
              "    <tr>\n",
              "      <td>90</td>\n",
              "      <td>0.017800</td>\n",
              "    </tr>\n",
              "    <tr>\n",
              "      <td>100</td>\n",
              "      <td>0.019600</td>\n",
              "    </tr>\n",
              "    <tr>\n",
              "      <td>110</td>\n",
              "      <td>0.017200</td>\n",
              "    </tr>\n",
              "    <tr>\n",
              "      <td>120</td>\n",
              "      <td>0.017300</td>\n",
              "    </tr>\n",
              "    <tr>\n",
              "      <td>130</td>\n",
              "      <td>0.021800</td>\n",
              "    </tr>\n",
              "    <tr>\n",
              "      <td>140</td>\n",
              "      <td>0.018600</td>\n",
              "    </tr>\n",
              "    <tr>\n",
              "      <td>150</td>\n",
              "      <td>0.017500</td>\n",
              "    </tr>\n",
              "    <tr>\n",
              "      <td>160</td>\n",
              "      <td>0.018500</td>\n",
              "    </tr>\n",
              "    <tr>\n",
              "      <td>170</td>\n",
              "      <td>0.018200</td>\n",
              "    </tr>\n",
              "    <tr>\n",
              "      <td>180</td>\n",
              "      <td>0.016800</td>\n",
              "    </tr>\n",
              "    <tr>\n",
              "      <td>190</td>\n",
              "      <td>0.020800</td>\n",
              "    </tr>\n",
              "    <tr>\n",
              "      <td>200</td>\n",
              "      <td>0.017800</td>\n",
              "    </tr>\n",
              "    <tr>\n",
              "      <td>210</td>\n",
              "      <td>0.017400</td>\n",
              "    </tr>\n",
              "    <tr>\n",
              "      <td>220</td>\n",
              "      <td>0.018800</td>\n",
              "    </tr>\n",
              "    <tr>\n",
              "      <td>230</td>\n",
              "      <td>0.020200</td>\n",
              "    </tr>\n",
              "    <tr>\n",
              "      <td>240</td>\n",
              "      <td>0.018200</td>\n",
              "    </tr>\n",
              "    <tr>\n",
              "      <td>250</td>\n",
              "      <td>0.016900</td>\n",
              "    </tr>\n",
              "    <tr>\n",
              "      <td>260</td>\n",
              "      <td>0.019700</td>\n",
              "    </tr>\n",
              "    <tr>\n",
              "      <td>270</td>\n",
              "      <td>0.018200</td>\n",
              "    </tr>\n",
              "    <tr>\n",
              "      <td>280</td>\n",
              "      <td>0.016700</td>\n",
              "    </tr>\n",
              "    <tr>\n",
              "      <td>290</td>\n",
              "      <td>0.017300</td>\n",
              "    </tr>\n",
              "    <tr>\n",
              "      <td>300</td>\n",
              "      <td>0.020300</td>\n",
              "    </tr>\n",
              "    <tr>\n",
              "      <td>310</td>\n",
              "      <td>0.020000</td>\n",
              "    </tr>\n",
              "    <tr>\n",
              "      <td>320</td>\n",
              "      <td>0.016500</td>\n",
              "    </tr>\n",
              "  </tbody>\n",
              "</table><p>"
            ]
          },
          "metadata": {}
        }
      ],
      "source": [
        "\n",
        "# ====== Train ======\n",
        "trainer.train()"
      ]
    },
    {
      "cell_type": "code",
      "source": [
        "def query_model(prompt, max_new_tokens=100):\n",
        "    inputs = tokenizer(prompt, return_tensors=\"pt\").to(model.device)\n",
        "    outputs = model.generate(**inputs, max_new_tokens=max_new_tokens)\n",
        "    return tokenizer.decode(outputs[0], skip_special_tokens=True)"
      ],
      "metadata": {
        "id": "JeMhU53DBsVy"
      },
      "id": "JeMhU53DBsVy",
      "execution_count": null,
      "outputs": []
    },
    {
      "cell_type": "code",
      "source": [
        "print(query_model(\"How to launch a rocket?\"))"
      ],
      "metadata": {
        "id": "VfsmASE4BlA0"
      },
      "id": "VfsmASE4BlA0",
      "execution_count": null,
      "outputs": []
    },
    {
      "cell_type": "code",
      "execution_count": null,
      "id": "f4095b0d-32f9-42cf-b070-e6d4131de535",
      "metadata": {
        "id": "f4095b0d-32f9-42cf-b070-e6d4131de535"
      },
      "outputs": [],
      "source": [
        "# ====== Save Model ======\n",
        "trainer.save_model(output_dir)\n",
        "tokenizer.save_pretrained(output_dir)"
      ]
    }
  ],
  "metadata": {
    "kernelspec": {
      "display_name": "gpu_torch",
      "language": "python",
      "name": "gpu_torch"
    },
    "language_info": {
      "codemirror_mode": {
        "name": "ipython",
        "version": 3
      },
      "file_extension": ".py",
      "mimetype": "text/x-python",
      "name": "python",
      "nbconvert_exporter": "python",
      "pygments_lexer": "ipython3",
      "version": "3.8.20"
    },
    "colab": {
      "provenance": [],
      "gpuType": "L4"
    },
    "accelerator": "GPU",
    "widgets": {
      "application/vnd.jupyter.widget-state+json": {
        "95dc04012f4b4e268b494dfc89f895c8": {
          "model_module": "@jupyter-widgets/controls",
          "model_name": "HBoxModel",
          "model_module_version": "1.5.0",
          "state": {
            "_dom_classes": [],
            "_model_module": "@jupyter-widgets/controls",
            "_model_module_version": "1.5.0",
            "_model_name": "HBoxModel",
            "_view_count": null,
            "_view_module": "@jupyter-widgets/controls",
            "_view_module_version": "1.5.0",
            "_view_name": "HBoxView",
            "box_style": "",
            "children": [
              "IPY_MODEL_4077191edb2849dc9a269103cd65c8e5",
              "IPY_MODEL_e3b0d70310e24249b9fc887bd4b13023",
              "IPY_MODEL_28689cc58acb4bfeb000591e02da7ee3"
            ],
            "layout": "IPY_MODEL_7439bd85d84842bb907ace3d618a7566"
          }
        },
        "4077191edb2849dc9a269103cd65c8e5": {
          "model_module": "@jupyter-widgets/controls",
          "model_name": "HTMLModel",
          "model_module_version": "1.5.0",
          "state": {
            "_dom_classes": [],
            "_model_module": "@jupyter-widgets/controls",
            "_model_module_version": "1.5.0",
            "_model_name": "HTMLModel",
            "_view_count": null,
            "_view_module": "@jupyter-widgets/controls",
            "_view_module_version": "1.5.0",
            "_view_name": "HTMLView",
            "description": "",
            "description_tooltip": null,
            "layout": "IPY_MODEL_495ac38bf1444c3197f38af55a553fcb",
            "placeholder": "​",
            "style": "IPY_MODEL_96f17668569f48038006a4ce7d082c88",
            "value": "Map: 100%"
          }
        },
        "e3b0d70310e24249b9fc887bd4b13023": {
          "model_module": "@jupyter-widgets/controls",
          "model_name": "FloatProgressModel",
          "model_module_version": "1.5.0",
          "state": {
            "_dom_classes": [],
            "_model_module": "@jupyter-widgets/controls",
            "_model_module_version": "1.5.0",
            "_model_name": "FloatProgressModel",
            "_view_count": null,
            "_view_module": "@jupyter-widgets/controls",
            "_view_module_version": "1.5.0",
            "_view_name": "ProgressView",
            "bar_style": "success",
            "description": "",
            "description_tooltip": null,
            "layout": "IPY_MODEL_22ec6ec6e7054b94a30301c8e578434b",
            "max": 100,
            "min": 0,
            "orientation": "horizontal",
            "style": "IPY_MODEL_57bfb36a4a5241f2a55fe45c31171cb2",
            "value": 100
          }
        },
        "28689cc58acb4bfeb000591e02da7ee3": {
          "model_module": "@jupyter-widgets/controls",
          "model_name": "HTMLModel",
          "model_module_version": "1.5.0",
          "state": {
            "_dom_classes": [],
            "_model_module": "@jupyter-widgets/controls",
            "_model_module_version": "1.5.0",
            "_model_name": "HTMLModel",
            "_view_count": null,
            "_view_module": "@jupyter-widgets/controls",
            "_view_module_version": "1.5.0",
            "_view_name": "HTMLView",
            "description": "",
            "description_tooltip": null,
            "layout": "IPY_MODEL_f47bb4b35cd145f48b80d31c8730fa43",
            "placeholder": "​",
            "style": "IPY_MODEL_2c11b058e7134b87bcf31c423e1aa2ec",
            "value": " 100/100 [00:00&lt;00:00, 2006.36 examples/s]"
          }
        },
        "7439bd85d84842bb907ace3d618a7566": {
          "model_module": "@jupyter-widgets/base",
          "model_name": "LayoutModel",
          "model_module_version": "1.2.0",
          "state": {
            "_model_module": "@jupyter-widgets/base",
            "_model_module_version": "1.2.0",
            "_model_name": "LayoutModel",
            "_view_count": null,
            "_view_module": "@jupyter-widgets/base",
            "_view_module_version": "1.2.0",
            "_view_name": "LayoutView",
            "align_content": null,
            "align_items": null,
            "align_self": null,
            "border": null,
            "bottom": null,
            "display": null,
            "flex": null,
            "flex_flow": null,
            "grid_area": null,
            "grid_auto_columns": null,
            "grid_auto_flow": null,
            "grid_auto_rows": null,
            "grid_column": null,
            "grid_gap": null,
            "grid_row": null,
            "grid_template_areas": null,
            "grid_template_columns": null,
            "grid_template_rows": null,
            "height": null,
            "justify_content": null,
            "justify_items": null,
            "left": null,
            "margin": null,
            "max_height": null,
            "max_width": null,
            "min_height": null,
            "min_width": null,
            "object_fit": null,
            "object_position": null,
            "order": null,
            "overflow": null,
            "overflow_x": null,
            "overflow_y": null,
            "padding": null,
            "right": null,
            "top": null,
            "visibility": null,
            "width": null
          }
        },
        "495ac38bf1444c3197f38af55a553fcb": {
          "model_module": "@jupyter-widgets/base",
          "model_name": "LayoutModel",
          "model_module_version": "1.2.0",
          "state": {
            "_model_module": "@jupyter-widgets/base",
            "_model_module_version": "1.2.0",
            "_model_name": "LayoutModel",
            "_view_count": null,
            "_view_module": "@jupyter-widgets/base",
            "_view_module_version": "1.2.0",
            "_view_name": "LayoutView",
            "align_content": null,
            "align_items": null,
            "align_self": null,
            "border": null,
            "bottom": null,
            "display": null,
            "flex": null,
            "flex_flow": null,
            "grid_area": null,
            "grid_auto_columns": null,
            "grid_auto_flow": null,
            "grid_auto_rows": null,
            "grid_column": null,
            "grid_gap": null,
            "grid_row": null,
            "grid_template_areas": null,
            "grid_template_columns": null,
            "grid_template_rows": null,
            "height": null,
            "justify_content": null,
            "justify_items": null,
            "left": null,
            "margin": null,
            "max_height": null,
            "max_width": null,
            "min_height": null,
            "min_width": null,
            "object_fit": null,
            "object_position": null,
            "order": null,
            "overflow": null,
            "overflow_x": null,
            "overflow_y": null,
            "padding": null,
            "right": null,
            "top": null,
            "visibility": null,
            "width": null
          }
        },
        "96f17668569f48038006a4ce7d082c88": {
          "model_module": "@jupyter-widgets/controls",
          "model_name": "DescriptionStyleModel",
          "model_module_version": "1.5.0",
          "state": {
            "_model_module": "@jupyter-widgets/controls",
            "_model_module_version": "1.5.0",
            "_model_name": "DescriptionStyleModel",
            "_view_count": null,
            "_view_module": "@jupyter-widgets/base",
            "_view_module_version": "1.2.0",
            "_view_name": "StyleView",
            "description_width": ""
          }
        },
        "22ec6ec6e7054b94a30301c8e578434b": {
          "model_module": "@jupyter-widgets/base",
          "model_name": "LayoutModel",
          "model_module_version": "1.2.0",
          "state": {
            "_model_module": "@jupyter-widgets/base",
            "_model_module_version": "1.2.0",
            "_model_name": "LayoutModel",
            "_view_count": null,
            "_view_module": "@jupyter-widgets/base",
            "_view_module_version": "1.2.0",
            "_view_name": "LayoutView",
            "align_content": null,
            "align_items": null,
            "align_self": null,
            "border": null,
            "bottom": null,
            "display": null,
            "flex": null,
            "flex_flow": null,
            "grid_area": null,
            "grid_auto_columns": null,
            "grid_auto_flow": null,
            "grid_auto_rows": null,
            "grid_column": null,
            "grid_gap": null,
            "grid_row": null,
            "grid_template_areas": null,
            "grid_template_columns": null,
            "grid_template_rows": null,
            "height": null,
            "justify_content": null,
            "justify_items": null,
            "left": null,
            "margin": null,
            "max_height": null,
            "max_width": null,
            "min_height": null,
            "min_width": null,
            "object_fit": null,
            "object_position": null,
            "order": null,
            "overflow": null,
            "overflow_x": null,
            "overflow_y": null,
            "padding": null,
            "right": null,
            "top": null,
            "visibility": null,
            "width": null
          }
        },
        "57bfb36a4a5241f2a55fe45c31171cb2": {
          "model_module": "@jupyter-widgets/controls",
          "model_name": "ProgressStyleModel",
          "model_module_version": "1.5.0",
          "state": {
            "_model_module": "@jupyter-widgets/controls",
            "_model_module_version": "1.5.0",
            "_model_name": "ProgressStyleModel",
            "_view_count": null,
            "_view_module": "@jupyter-widgets/base",
            "_view_module_version": "1.2.0",
            "_view_name": "StyleView",
            "bar_color": null,
            "description_width": ""
          }
        },
        "f47bb4b35cd145f48b80d31c8730fa43": {
          "model_module": "@jupyter-widgets/base",
          "model_name": "LayoutModel",
          "model_module_version": "1.2.0",
          "state": {
            "_model_module": "@jupyter-widgets/base",
            "_model_module_version": "1.2.0",
            "_model_name": "LayoutModel",
            "_view_count": null,
            "_view_module": "@jupyter-widgets/base",
            "_view_module_version": "1.2.0",
            "_view_name": "LayoutView",
            "align_content": null,
            "align_items": null,
            "align_self": null,
            "border": null,
            "bottom": null,
            "display": null,
            "flex": null,
            "flex_flow": null,
            "grid_area": null,
            "grid_auto_columns": null,
            "grid_auto_flow": null,
            "grid_auto_rows": null,
            "grid_column": null,
            "grid_gap": null,
            "grid_row": null,
            "grid_template_areas": null,
            "grid_template_columns": null,
            "grid_template_rows": null,
            "height": null,
            "justify_content": null,
            "justify_items": null,
            "left": null,
            "margin": null,
            "max_height": null,
            "max_width": null,
            "min_height": null,
            "min_width": null,
            "object_fit": null,
            "object_position": null,
            "order": null,
            "overflow": null,
            "overflow_x": null,
            "overflow_y": null,
            "padding": null,
            "right": null,
            "top": null,
            "visibility": null,
            "width": null
          }
        },
        "2c11b058e7134b87bcf31c423e1aa2ec": {
          "model_module": "@jupyter-widgets/controls",
          "model_name": "DescriptionStyleModel",
          "model_module_version": "1.5.0",
          "state": {
            "_model_module": "@jupyter-widgets/controls",
            "_model_module_version": "1.5.0",
            "_model_name": "DescriptionStyleModel",
            "_view_count": null,
            "_view_module": "@jupyter-widgets/base",
            "_view_module_version": "1.2.0",
            "_view_name": "StyleView",
            "description_width": ""
          }
        }
      }
    }
  },
  "nbformat": 4,
  "nbformat_minor": 5
}