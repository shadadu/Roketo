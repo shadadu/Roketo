{
  "cells": [
    {
      "cell_type": "code",
      "source": [
        "!pip install -U datasets huggingface_hub fsspec"
      ],
      "metadata": {
        "colab": {
          "base_uri": "https://localhost:8080/"
        },
        "id": "M2YpcxAPOP1u",
        "outputId": "724af0fa-b6ab-4a7b-fbd1-d83ec5287544"
      },
      "id": "M2YpcxAPOP1u",
      "execution_count": 1,
      "outputs": [
        {
          "output_type": "stream",
          "name": "stdout",
          "text": [
            "Requirement already satisfied: datasets in /usr/local/lib/python3.11/dist-packages (3.6.0)\n",
            "Requirement already satisfied: huggingface_hub in /usr/local/lib/python3.11/dist-packages (0.32.2)\n",
            "Requirement already satisfied: fsspec in /usr/local/lib/python3.11/dist-packages (2025.3.0)\n",
            "Collecting fsspec\n",
            "  Using cached fsspec-2025.5.1-py3-none-any.whl.metadata (11 kB)\n",
            "Requirement already satisfied: filelock in /usr/local/lib/python3.11/dist-packages (from datasets) (3.18.0)\n",
            "Requirement already satisfied: numpy>=1.17 in /usr/local/lib/python3.11/dist-packages (from datasets) (2.0.2)\n",
            "Requirement already satisfied: pyarrow>=15.0.0 in /usr/local/lib/python3.11/dist-packages (from datasets) (18.1.0)\n",
            "Requirement already satisfied: dill<0.3.9,>=0.3.0 in /usr/local/lib/python3.11/dist-packages (from datasets) (0.3.7)\n",
            "Requirement already satisfied: pandas in /usr/local/lib/python3.11/dist-packages (from datasets) (2.2.2)\n",
            "Requirement already satisfied: requests>=2.32.2 in /usr/local/lib/python3.11/dist-packages (from datasets) (2.32.3)\n",
            "Requirement already satisfied: tqdm>=4.66.3 in /usr/local/lib/python3.11/dist-packages (from datasets) (4.67.1)\n",
            "Requirement already satisfied: xxhash in /usr/local/lib/python3.11/dist-packages (from datasets) (3.5.0)\n",
            "Requirement already satisfied: multiprocess<0.70.17 in /usr/local/lib/python3.11/dist-packages (from datasets) (0.70.15)\n",
            "Requirement already satisfied: packaging in /usr/local/lib/python3.11/dist-packages (from datasets) (24.2)\n",
            "Requirement already satisfied: pyyaml>=5.1 in /usr/local/lib/python3.11/dist-packages (from datasets) (6.0.2)\n",
            "Requirement already satisfied: typing-extensions>=3.7.4.3 in /usr/local/lib/python3.11/dist-packages (from huggingface_hub) (4.13.2)\n",
            "Requirement already satisfied: hf-xet<2.0.0,>=1.1.2 in /usr/local/lib/python3.11/dist-packages (from huggingface_hub) (1.1.2)\n",
            "Requirement already satisfied: aiohttp!=4.0.0a0,!=4.0.0a1 in /usr/local/lib/python3.11/dist-packages (from fsspec[http]<=2025.3.0,>=2023.1.0->datasets) (3.11.15)\n",
            "Requirement already satisfied: charset-normalizer<4,>=2 in /usr/local/lib/python3.11/dist-packages (from requests>=2.32.2->datasets) (3.4.2)\n",
            "Requirement already satisfied: idna<4,>=2.5 in /usr/local/lib/python3.11/dist-packages (from requests>=2.32.2->datasets) (3.10)\n",
            "Requirement already satisfied: urllib3<3,>=1.21.1 in /usr/local/lib/python3.11/dist-packages (from requests>=2.32.2->datasets) (2.4.0)\n",
            "Requirement already satisfied: certifi>=2017.4.17 in /usr/local/lib/python3.11/dist-packages (from requests>=2.32.2->datasets) (2025.4.26)\n",
            "Requirement already satisfied: python-dateutil>=2.8.2 in /usr/local/lib/python3.11/dist-packages (from pandas->datasets) (2.9.0.post0)\n",
            "Requirement already satisfied: pytz>=2020.1 in /usr/local/lib/python3.11/dist-packages (from pandas->datasets) (2025.2)\n",
            "Requirement already satisfied: tzdata>=2022.7 in /usr/local/lib/python3.11/dist-packages (from pandas->datasets) (2025.2)\n",
            "Requirement already satisfied: aiohappyeyeballs>=2.3.0 in /usr/local/lib/python3.11/dist-packages (from aiohttp!=4.0.0a0,!=4.0.0a1->fsspec[http]<=2025.3.0,>=2023.1.0->datasets) (2.6.1)\n",
            "Requirement already satisfied: aiosignal>=1.1.2 in /usr/local/lib/python3.11/dist-packages (from aiohttp!=4.0.0a0,!=4.0.0a1->fsspec[http]<=2025.3.0,>=2023.1.0->datasets) (1.3.2)\n",
            "Requirement already satisfied: attrs>=17.3.0 in /usr/local/lib/python3.11/dist-packages (from aiohttp!=4.0.0a0,!=4.0.0a1->fsspec[http]<=2025.3.0,>=2023.1.0->datasets) (25.3.0)\n",
            "Requirement already satisfied: frozenlist>=1.1.1 in /usr/local/lib/python3.11/dist-packages (from aiohttp!=4.0.0a0,!=4.0.0a1->fsspec[http]<=2025.3.0,>=2023.1.0->datasets) (1.6.0)\n",
            "Requirement already satisfied: multidict<7.0,>=4.5 in /usr/local/lib/python3.11/dist-packages (from aiohttp!=4.0.0a0,!=4.0.0a1->fsspec[http]<=2025.3.0,>=2023.1.0->datasets) (6.4.4)\n",
            "Requirement already satisfied: propcache>=0.2.0 in /usr/local/lib/python3.11/dist-packages (from aiohttp!=4.0.0a0,!=4.0.0a1->fsspec[http]<=2025.3.0,>=2023.1.0->datasets) (0.3.1)\n",
            "Requirement already satisfied: yarl<2.0,>=1.17.0 in /usr/local/lib/python3.11/dist-packages (from aiohttp!=4.0.0a0,!=4.0.0a1->fsspec[http]<=2025.3.0,>=2023.1.0->datasets) (1.20.0)\n",
            "Requirement already satisfied: six>=1.5 in /usr/local/lib/python3.11/dist-packages (from python-dateutil>=2.8.2->pandas->datasets) (1.17.0)\n"
          ]
        }
      ]
    },
    {
      "cell_type": "code",
      "execution_count": 2,
      "id": "8fe3320a-fdca-4851-a565-6bcc4282c509",
      "metadata": {
        "id": "8fe3320a-fdca-4851-a565-6bcc4282c509"
      },
      "outputs": [],
      "source": [
        "import torch\n",
        "import torch.nn as nn\n",
        "from transformers import AutoTokenizer, AutoModelForCausalLM, AutoModelForQuestionAnswering, Trainer, TrainingArguments, DataCollatorForLanguageModeling\n",
        "from datasets import load_dataset, Dataset, concatenate_datasets\n",
        "import json\n",
        "import os\n",
        "import accelerate"
      ]
    },
    {
      "cell_type": "code",
      "execution_count": 3,
      "id": "lEvyQxuPxFt_",
      "metadata": {
        "colab": {
          "base_uri": "https://localhost:8080/"
        },
        "id": "lEvyQxuPxFt_",
        "outputId": "7900bfdd-a44e-44af-96e1-c767223e09d5"
      },
      "outputs": [
        {
          "output_type": "stream",
          "name": "stdout",
          "text": [
            "Drive already mounted at /content/MyDrive; to attempt to forcibly remount, call drive.mount(\"/content/MyDrive\", force_remount=True).\n"
          ]
        }
      ],
      "source": [
        "from google.colab import drive\n",
        "drive.mount('/content/MyDrive')"
      ]
    },
    {
      "cell_type": "code",
      "execution_count": 4,
      "id": "1bf9088a-0161-4137-b7fc-494d2a584a21",
      "metadata": {
        "id": "1bf9088a-0161-4137-b7fc-494d2a584a21"
      },
      "outputs": [],
      "source": [
        "model_dir = \"/content/drive/MyDrive/Models\""
      ]
    },
    {
      "cell_type": "code",
      "execution_count": 5,
      "id": "5258adb6-4751-4685-ac0c-090369b847f9",
      "metadata": {
        "id": "5258adb6-4751-4685-ac0c-090369b847f9"
      },
      "outputs": [],
      "source": [
        "# ====== Config ======\n",
        "# model_name = \"microsoft/phi-1\"\n",
        "model_name = \"shaddie/rocketry_roqeto_model\" # \"Salesforce/codegen-350M-mono\"\n",
        "output_dir = model_dir + \"/rocketry-roqeto-model\""
      ]
    },
    {
      "cell_type": "code",
      "execution_count": 6,
      "id": "12986559-8b17-457e-8232-afa78613a827",
      "metadata": {
        "id": "12986559-8b17-457e-8232-afa78613a827"
      },
      "outputs": [],
      "source": [
        "# ====== Load Dataset ======\n",
        "def load_json_dataset1(data):\n",
        "    return Dataset.from_list([{\n",
        "       \"text\": f\"Question: {item['question']}\\nAnswer: {item['answer']}\"\n",
        "    } for item in dataset1[\"train\"][\"spacesystems\"][0:4500] ])\n",
        "\n",
        "def load_json_dataset2(data):\n",
        "    return Dataset.from_list([{\n",
        "       \"text\": f\"Question: {item['question']}\\nAnswer: {item['answer']}\"\n",
        "    } for item in dataset2[\"train\"] ])"
      ]
    },
    {
      "cell_type": "code",
      "source": [
        "dataset1 = load_dataset(\"shaddie/space_systems_qas_dataset\")\n",
        "data1 = load_json_dataset1(dataset1)\n"
      ],
      "metadata": {
        "colab": {
          "base_uri": "https://localhost:8080/"
        },
        "id": "uqPrI13JQAw4",
        "outputId": "a3b57d85-d23c-4612-f3f5-d41b083a3293"
      },
      "id": "uqPrI13JQAw4",
      "execution_count": 7,
      "outputs": [
        {
          "output_type": "stream",
          "name": "stderr",
          "text": [
            "/usr/local/lib/python3.11/dist-packages/huggingface_hub/utils/_auth.py:94: UserWarning: \n",
            "The secret `HF_TOKEN` does not exist in your Colab secrets.\n",
            "To authenticate with the Hugging Face Hub, create a token in your settings tab (https://huggingface.co/settings/tokens), set it as secret in your Google Colab and restart your session.\n",
            "You will be able to reuse this secret in all of your notebooks.\n",
            "Please note that authentication is recommended but still optional to access public models or datasets.\n",
            "  warnings.warn(\n"
          ]
        }
      ]
    },
    {
      "cell_type": "code",
      "source": [
        "data1"
      ],
      "metadata": {
        "colab": {
          "base_uri": "https://localhost:8080/"
        },
        "id": "7d5_6u0BBT9h",
        "outputId": "c04d42c7-a60a-40a1-f33b-a8dcd4f45e67"
      },
      "id": "7d5_6u0BBT9h",
      "execution_count": 8,
      "outputs": [
        {
          "output_type": "execute_result",
          "data": {
            "text/plain": [
              "Dataset({\n",
              "    features: ['text'],\n",
              "    num_rows: 4500\n",
              "})"
            ]
          },
          "metadata": {},
          "execution_count": 8
        }
      ]
    },
    {
      "cell_type": "code",
      "source": [
        "dataset2 = load_dataset(\"shaddie/rocketry_qas_dataset\")\n",
        "data2 = load_json_dataset2(dataset2)"
      ],
      "metadata": {
        "id": "HQ1VPo0f47Ss"
      },
      "id": "HQ1VPo0f47Ss",
      "execution_count": 9,
      "outputs": []
    },
    {
      "cell_type": "code",
      "source": [
        "data2"
      ],
      "metadata": {
        "colab": {
          "base_uri": "https://localhost:8080/"
        },
        "id": "RLydBURZAzvR",
        "outputId": "167e8777-6fe8-4611-c8f7-3709f0808d38"
      },
      "id": "RLydBURZAzvR",
      "execution_count": 10,
      "outputs": [
        {
          "output_type": "execute_result",
          "data": {
            "text/plain": [
              "Dataset({\n",
              "    features: ['text'],\n",
              "    num_rows: 757\n",
              "})"
            ]
          },
          "metadata": {},
          "execution_count": 10
        }
      ]
    },
    {
      "cell_type": "code",
      "source": [
        "dataset = concatenate_datasets([data1, data2])"
      ],
      "metadata": {
        "id": "dDuhYB3jG9TZ"
      },
      "id": "dDuhYB3jG9TZ",
      "execution_count": 11,
      "outputs": []
    },
    {
      "cell_type": "code",
      "source": [
        "dataset"
      ],
      "metadata": {
        "colab": {
          "base_uri": "https://localhost:8080/"
        },
        "id": "lGoWCkKNGuFv",
        "outputId": "30f328dd-c4e6-4c8c-b93c-1d042f04e0e5"
      },
      "id": "lGoWCkKNGuFv",
      "execution_count": 12,
      "outputs": [
        {
          "output_type": "execute_result",
          "data": {
            "text/plain": [
              "Dataset({\n",
              "    features: ['text'],\n",
              "    num_rows: 5257\n",
              "})"
            ]
          },
          "metadata": {},
          "execution_count": 12
        }
      ]
    },
    {
      "cell_type": "code",
      "execution_count": 13,
      "id": "c374b545-877d-4ddb-94f2-016adea569c8",
      "metadata": {
        "id": "c374b545-877d-4ddb-94f2-016adea569c8"
      },
      "outputs": [],
      "source": [
        "# # Load tokenizer and model\n",
        "tokenizer = AutoTokenizer.from_pretrained(model_name)\n",
        "model = AutoModelForCausalLM.from_pretrained(model_name, device_map=\"auto\")"
      ]
    },
    {
      "cell_type": "code",
      "execution_count": 14,
      "id": "b7c54da9-8838-42ea-ba50-036fc0a7ddea",
      "metadata": {
        "id": "b7c54da9-8838-42ea-ba50-036fc0a7ddea"
      },
      "outputs": [],
      "source": [
        "data_collator = DataCollatorForLanguageModeling(tokenizer=tokenizer, mlm=False)"
      ]
    },
    {
      "cell_type": "code",
      "execution_count": 15,
      "id": "318c939b-524b-4272-988a-8b18e2ae8812",
      "metadata": {
        "colab": {
          "base_uri": "https://localhost:8080/"
        },
        "id": "318c939b-524b-4272-988a-8b18e2ae8812",
        "outputId": "46a6d253-7a9d-4000-c468-b70350facc35"
      },
      "outputs": [
        {
          "output_type": "execute_result",
          "data": {
            "text/plain": [
              "0"
            ]
          },
          "metadata": {},
          "execution_count": 15
        }
      ],
      "source": [
        "tokenizer.add_special_tokens({'pad_token': '[PAD]'})"
      ]
    },
    {
      "cell_type": "code",
      "execution_count": 16,
      "id": "89a4196d-2abb-48c5-a17b-5470a22c17a7",
      "metadata": {
        "colab": {
          "base_uri": "https://localhost:8080/",
          "height": 49,
          "referenced_widgets": [
            "edcbd3ce34854edca62d751be87b23cf",
            "9e617d201d4740519f3bb6b3bb13082a",
            "5bc7927a00f542a79c8b849d9af9a152",
            "42d4cecdf0234914ac847b71ec95c927",
            "6a443aeffc0e45be9a1e5c1798909650",
            "3d590dd5194043bd823868167327f1cf",
            "6b18dcca81304099b6dba1e07aca4c6c",
            "c16be97b7edb401d84deaf059907681d",
            "c62957caf16a46628d77df12b4cf57bf",
            "24cd3bfa171c4fbc84da27a5ddf97c64",
            "65cfb974922145b685b3bb651f0a453e"
          ]
        },
        "id": "89a4196d-2abb-48c5-a17b-5470a22c17a7",
        "outputId": "d1284e9c-17b4-4d0e-dca7-88db6fbd7618"
      },
      "outputs": [
        {
          "output_type": "display_data",
          "data": {
            "text/plain": [
              "Map:   0%|          | 0/5257 [00:00<?, ? examples/s]"
            ],
            "application/vnd.jupyter.widget-view+json": {
              "version_major": 2,
              "version_minor": 0,
              "model_id": "edcbd3ce34854edca62d751be87b23cf"
            }
          },
          "metadata": {}
        }
      ],
      "source": [
        "# Tokenize the dataset\n",
        "def tokenize(example):\n",
        "    # print(f'example {example[\"text\"]}')\n",
        "    return tokenizer(example[\"text\"], truncation=True, padding=\"max_length\", max_length=512)\n",
        "\n",
        "tokenized_dataset = dataset.map(tokenize, batched=True)"
      ]
    },
    {
      "cell_type": "code",
      "execution_count": 17,
      "id": "af6dc132-53e5-4f0a-bd4d-5b11235a4c36",
      "metadata": {
        "id": "af6dc132-53e5-4f0a-bd4d-5b11235a4c36"
      },
      "outputs": [],
      "source": [
        "data_collator = DataCollatorForLanguageModeling(tokenizer=tokenizer, mlm=False)"
      ]
    },
    {
      "cell_type": "code",
      "execution_count": 18,
      "id": "605ad6e0-029d-4ae2-b95d-505bc94aab63",
      "metadata": {
        "id": "605ad6e0-029d-4ae2-b95d-505bc94aab63"
      },
      "outputs": [],
      "source": [
        "# ====== Training Arguments ======\n",
        "training_args = TrainingArguments(\n",
        "    output_dir=output_dir,\n",
        "    per_device_train_batch_size=4,\n",
        "    num_train_epochs=1,\n",
        "    logging_steps=200,\n",
        "    save_steps=50,\n",
        "    save_total_limit=2,\n",
        "    warmup_steps=10,\n",
        "    weight_decay=0.01,\n",
        "    logging_dir=os.path.join(output_dir, \"logs\"),\n",
        "    fp16=torch.cuda.is_available(),\n",
        "    report_to=\"none\",\n",
        ")"
      ]
    },
    {
      "cell_type": "code",
      "execution_count": 19,
      "id": "b3dd4e62-5919-4a4c-bf48-600a18eae378",
      "metadata": {
        "colab": {
          "base_uri": "https://localhost:8080/"
        },
        "id": "b3dd4e62-5919-4a4c-bf48-600a18eae378",
        "outputId": "48a60980-15f1-4f87-8dd9-5b25a28a962a"
      },
      "outputs": [
        {
          "output_type": "stream",
          "name": "stderr",
          "text": [
            "<ipython-input-19-0170af16dc0f>:2: FutureWarning: `tokenizer` is deprecated and will be removed in version 5.0.0 for `Trainer.__init__`. Use `processing_class` instead.\n",
            "  trainer = Trainer(\n"
          ]
        }
      ],
      "source": [
        "# ====== Trainer ======\n",
        "trainer = Trainer(\n",
        "    model=model,\n",
        "    args=training_args,\n",
        "    train_dataset=tokenized_dataset,\n",
        "    tokenizer=tokenizer,\n",
        "    data_collator=data_collator,\n",
        ")"
      ]
    },
    {
      "cell_type": "code",
      "execution_count": null,
      "id": "e229c665-fd06-46ac-93d8-cdb9fdb39136",
      "metadata": {
        "colab": {
          "base_uri": "https://localhost:8080/",
          "height": 107
        },
        "id": "e229c665-fd06-46ac-93d8-cdb9fdb39136",
        "outputId": "07a8ec75-70e2-4eb9-d0e8-b90c5c444fab"
      },
      "outputs": [
        {
          "data": {
            "text/html": [
              "\n",
              "    <div>\n",
              "      \n",
              "      <progress value='301' max='1315' style='width:300px; height:20px; vertical-align: middle;'></progress>\n",
              "      [ 301/1315 07:06 < 24:07, 0.70 it/s, Epoch 0.23/1]\n",
              "    </div>\n",
              "    <table border=\"1\" class=\"dataframe\">\n",
              "  <thead>\n",
              " <tr style=\"text-align: left;\">\n",
              "      <th>Step</th>\n",
              "      <th>Training Loss</th>\n",
              "    </tr>\n",
              "  </thead>\n",
              "  <tbody>\n",
              "    <tr>\n",
              "      <td>200</td>\n",
              "      <td>2.168600</td>\n",
              "    </tr>\n",
              "  </tbody>\n",
              "</table><p>"
            ],
            "text/plain": [
              "<IPython.core.display.HTML object>"
            ]
          },
          "metadata": {},
          "output_type": "display_data"
        }
      ],
      "source": [
        "# ====== Train ======\n",
        "trainer.train()"
      ]
    },
    {
      "cell_type": "code",
      "execution_count": null,
      "id": "82e5cd5d-1cb8-4d1a-9f1d-21e864ca07fb",
      "metadata": {
        "id": "82e5cd5d-1cb8-4d1a-9f1d-21e864ca07fb"
      },
      "outputs": [],
      "source": [
        "def query_model(prompt, max_new_tokens=368):\n",
        "    inputs = tokenizer(prompt, return_tensors=\"pt\").to(model.device)\n",
        "    outputs = model.generate(**inputs, max_new_tokens=max_new_tokens)\n",
        "    return tokenizer.decode(outputs[0], skip_special_tokens=True)"
      ]
    },
    {
      "cell_type": "code",
      "execution_count": null,
      "id": "a0ec566a-af28-43aa-a609-ff7c01463f07",
      "metadata": {
        "id": "a0ec566a-af28-43aa-a609-ff7c01463f07"
      },
      "outputs": [],
      "source": [
        "print(query_model(\"How would you launch a rocket with optimal fuel for reaching space?\"))"
      ]
    },
    {
      "cell_type": "code",
      "execution_count": null,
      "id": "ff17d7f7-f22f-40d4-9e37-8b88f7889e14",
      "metadata": {
        "id": "ff17d7f7-f22f-40d4-9e37-8b88f7889e14"
      },
      "outputs": [],
      "source": [
        "print(query_model(\"Question: Can you describe how you would construct a habitable space station in geosynchronous orbit?\"))"
      ]
    },
    {
      "cell_type": "code",
      "execution_count": null,
      "id": "ALCGVNZ3ZYy2",
      "metadata": {
        "id": "ALCGVNZ3ZYy2"
      },
      "outputs": [],
      "source": [
        "print(query_model(\"How would you design or create artificial gravity in a space-ship traveliing in outer space?\"))"
      ]
    },
    {
      "cell_type": "code",
      "execution_count": null,
      "id": "f4095b0d-32f9-42cf-b070-e6d4131de535",
      "metadata": {
        "id": "f4095b0d-32f9-42cf-b070-e6d4131de535"
      },
      "outputs": [],
      "source": [
        "# ====== Save Model ======\n",
        "# trainer.save_model(output_dir)\n",
        "# tokenizer.save_pretrained(output_dir)"
      ]
    },
    {
      "cell_type": "code",
      "source": [
        "from huggingface_hub import notebook_login\n",
        "notebook_login()"
      ],
      "metadata": {
        "id": "DaDKC61mHNJ5"
      },
      "id": "DaDKC61mHNJ5",
      "execution_count": null,
      "outputs": []
    },
    {
      "cell_type": "code",
      "source": [
        "model.push_to_hub(\"shaddie/rocketry_roqeto_model\",\n",
        "                  use_auth_token=True,\n",
        "                  commit_message=\"fine-tuning-for-rocketry-knowledge\",\n",
        "                  private=False)"
      ],
      "metadata": {
        "id": "Z_GwdLDxHTOL"
      },
      "id": "Z_GwdLDxHTOL",
      "execution_count": null,
      "outputs": []
    },
    {
      "cell_type": "code",
      "source": [
        "tokenizer.push_to_hub(\"shaddie/rocketry_roqeto_model\",\n",
        "                  use_auth_token=True,\n",
        "                  commit_message=\"tokenizer-fine-tuning-for-rocketry-knowledge\",\n",
        "                  private=False)"
      ],
      "metadata": {
        "id": "jHWDPiySIP3Q"
      },
      "id": "jHWDPiySIP3Q",
      "execution_count": null,
      "outputs": []
    }
  ],
  "metadata": {
    "accelerator": "GPU",
    "colab": {
      "gpuType": "T4",
      "provenance": []
    },
    "kernelspec": {
      "display_name": "gpu_torch",
      "language": "python",
      "name": "gpu_torch"
    },
    "language_info": {
      "codemirror_mode": {
        "name": "ipython",
        "version": 3
      },
      "file_extension": ".py",
      "mimetype": "text/x-python",
      "name": "python",
      "nbconvert_exporter": "python",
      "pygments_lexer": "ipython3",
      "version": "3.8.20"
    },
    "widgets": {
      "application/vnd.jupyter.widget-state+json": {
        "edcbd3ce34854edca62d751be87b23cf": {
          "model_module": "@jupyter-widgets/controls",
          "model_name": "HBoxModel",
          "model_module_version": "1.5.0",
          "state": {
            "_dom_classes": [],
            "_model_module": "@jupyter-widgets/controls",
            "_model_module_version": "1.5.0",
            "_model_name": "HBoxModel",
            "_view_count": null,
            "_view_module": "@jupyter-widgets/controls",
            "_view_module_version": "1.5.0",
            "_view_name": "HBoxView",
            "box_style": "",
            "children": [
              "IPY_MODEL_9e617d201d4740519f3bb6b3bb13082a",
              "IPY_MODEL_5bc7927a00f542a79c8b849d9af9a152",
              "IPY_MODEL_42d4cecdf0234914ac847b71ec95c927"
            ],
            "layout": "IPY_MODEL_6a443aeffc0e45be9a1e5c1798909650"
          }
        },
        "9e617d201d4740519f3bb6b3bb13082a": {
          "model_module": "@jupyter-widgets/controls",
          "model_name": "HTMLModel",
          "model_module_version": "1.5.0",
          "state": {
            "_dom_classes": [],
            "_model_module": "@jupyter-widgets/controls",
            "_model_module_version": "1.5.0",
            "_model_name": "HTMLModel",
            "_view_count": null,
            "_view_module": "@jupyter-widgets/controls",
            "_view_module_version": "1.5.0",
            "_view_name": "HTMLView",
            "description": "",
            "description_tooltip": null,
            "layout": "IPY_MODEL_3d590dd5194043bd823868167327f1cf",
            "placeholder": "​",
            "style": "IPY_MODEL_6b18dcca81304099b6dba1e07aca4c6c",
            "value": "Map: 100%"
          }
        },
        "5bc7927a00f542a79c8b849d9af9a152": {
          "model_module": "@jupyter-widgets/controls",
          "model_name": "FloatProgressModel",
          "model_module_version": "1.5.0",
          "state": {
            "_dom_classes": [],
            "_model_module": "@jupyter-widgets/controls",
            "_model_module_version": "1.5.0",
            "_model_name": "FloatProgressModel",
            "_view_count": null,
            "_view_module": "@jupyter-widgets/controls",
            "_view_module_version": "1.5.0",
            "_view_name": "ProgressView",
            "bar_style": "success",
            "description": "",
            "description_tooltip": null,
            "layout": "IPY_MODEL_c16be97b7edb401d84deaf059907681d",
            "max": 5257,
            "min": 0,
            "orientation": "horizontal",
            "style": "IPY_MODEL_c62957caf16a46628d77df12b4cf57bf",
            "value": 5257
          }
        },
        "42d4cecdf0234914ac847b71ec95c927": {
          "model_module": "@jupyter-widgets/controls",
          "model_name": "HTMLModel",
          "model_module_version": "1.5.0",
          "state": {
            "_dom_classes": [],
            "_model_module": "@jupyter-widgets/controls",
            "_model_module_version": "1.5.0",
            "_model_name": "HTMLModel",
            "_view_count": null,
            "_view_module": "@jupyter-widgets/controls",
            "_view_module_version": "1.5.0",
            "_view_name": "HTMLView",
            "description": "",
            "description_tooltip": null,
            "layout": "IPY_MODEL_24cd3bfa171c4fbc84da27a5ddf97c64",
            "placeholder": "​",
            "style": "IPY_MODEL_65cfb974922145b685b3bb651f0a453e",
            "value": " 5257/5257 [00:06&lt;00:00, 620.63 examples/s]"
          }
        },
        "6a443aeffc0e45be9a1e5c1798909650": {
          "model_module": "@jupyter-widgets/base",
          "model_name": "LayoutModel",
          "model_module_version": "1.2.0",
          "state": {
            "_model_module": "@jupyter-widgets/base",
            "_model_module_version": "1.2.0",
            "_model_name": "LayoutModel",
            "_view_count": null,
            "_view_module": "@jupyter-widgets/base",
            "_view_module_version": "1.2.0",
            "_view_name": "LayoutView",
            "align_content": null,
            "align_items": null,
            "align_self": null,
            "border": null,
            "bottom": null,
            "display": null,
            "flex": null,
            "flex_flow": null,
            "grid_area": null,
            "grid_auto_columns": null,
            "grid_auto_flow": null,
            "grid_auto_rows": null,
            "grid_column": null,
            "grid_gap": null,
            "grid_row": null,
            "grid_template_areas": null,
            "grid_template_columns": null,
            "grid_template_rows": null,
            "height": null,
            "justify_content": null,
            "justify_items": null,
            "left": null,
            "margin": null,
            "max_height": null,
            "max_width": null,
            "min_height": null,
            "min_width": null,
            "object_fit": null,
            "object_position": null,
            "order": null,
            "overflow": null,
            "overflow_x": null,
            "overflow_y": null,
            "padding": null,
            "right": null,
            "top": null,
            "visibility": null,
            "width": null
          }
        },
        "3d590dd5194043bd823868167327f1cf": {
          "model_module": "@jupyter-widgets/base",
          "model_name": "LayoutModel",
          "model_module_version": "1.2.0",
          "state": {
            "_model_module": "@jupyter-widgets/base",
            "_model_module_version": "1.2.0",
            "_model_name": "LayoutModel",
            "_view_count": null,
            "_view_module": "@jupyter-widgets/base",
            "_view_module_version": "1.2.0",
            "_view_name": "LayoutView",
            "align_content": null,
            "align_items": null,
            "align_self": null,
            "border": null,
            "bottom": null,
            "display": null,
            "flex": null,
            "flex_flow": null,
            "grid_area": null,
            "grid_auto_columns": null,
            "grid_auto_flow": null,
            "grid_auto_rows": null,
            "grid_column": null,
            "grid_gap": null,
            "grid_row": null,
            "grid_template_areas": null,
            "grid_template_columns": null,
            "grid_template_rows": null,
            "height": null,
            "justify_content": null,
            "justify_items": null,
            "left": null,
            "margin": null,
            "max_height": null,
            "max_width": null,
            "min_height": null,
            "min_width": null,
            "object_fit": null,
            "object_position": null,
            "order": null,
            "overflow": null,
            "overflow_x": null,
            "overflow_y": null,
            "padding": null,
            "right": null,
            "top": null,
            "visibility": null,
            "width": null
          }
        },
        "6b18dcca81304099b6dba1e07aca4c6c": {
          "model_module": "@jupyter-widgets/controls",
          "model_name": "DescriptionStyleModel",
          "model_module_version": "1.5.0",
          "state": {
            "_model_module": "@jupyter-widgets/controls",
            "_model_module_version": "1.5.0",
            "_model_name": "DescriptionStyleModel",
            "_view_count": null,
            "_view_module": "@jupyter-widgets/base",
            "_view_module_version": "1.2.0",
            "_view_name": "StyleView",
            "description_width": ""
          }
        },
        "c16be97b7edb401d84deaf059907681d": {
          "model_module": "@jupyter-widgets/base",
          "model_name": "LayoutModel",
          "model_module_version": "1.2.0",
          "state": {
            "_model_module": "@jupyter-widgets/base",
            "_model_module_version": "1.2.0",
            "_model_name": "LayoutModel",
            "_view_count": null,
            "_view_module": "@jupyter-widgets/base",
            "_view_module_version": "1.2.0",
            "_view_name": "LayoutView",
            "align_content": null,
            "align_items": null,
            "align_self": null,
            "border": null,
            "bottom": null,
            "display": null,
            "flex": null,
            "flex_flow": null,
            "grid_area": null,
            "grid_auto_columns": null,
            "grid_auto_flow": null,
            "grid_auto_rows": null,
            "grid_column": null,
            "grid_gap": null,
            "grid_row": null,
            "grid_template_areas": null,
            "grid_template_columns": null,
            "grid_template_rows": null,
            "height": null,
            "justify_content": null,
            "justify_items": null,
            "left": null,
            "margin": null,
            "max_height": null,
            "max_width": null,
            "min_height": null,
            "min_width": null,
            "object_fit": null,
            "object_position": null,
            "order": null,
            "overflow": null,
            "overflow_x": null,
            "overflow_y": null,
            "padding": null,
            "right": null,
            "top": null,
            "visibility": null,
            "width": null
          }
        },
        "c62957caf16a46628d77df12b4cf57bf": {
          "model_module": "@jupyter-widgets/controls",
          "model_name": "ProgressStyleModel",
          "model_module_version": "1.5.0",
          "state": {
            "_model_module": "@jupyter-widgets/controls",
            "_model_module_version": "1.5.0",
            "_model_name": "ProgressStyleModel",
            "_view_count": null,
            "_view_module": "@jupyter-widgets/base",
            "_view_module_version": "1.2.0",
            "_view_name": "StyleView",
            "bar_color": null,
            "description_width": ""
          }
        },
        "24cd3bfa171c4fbc84da27a5ddf97c64": {
          "model_module": "@jupyter-widgets/base",
          "model_name": "LayoutModel",
          "model_module_version": "1.2.0",
          "state": {
            "_model_module": "@jupyter-widgets/base",
            "_model_module_version": "1.2.0",
            "_model_name": "LayoutModel",
            "_view_count": null,
            "_view_module": "@jupyter-widgets/base",
            "_view_module_version": "1.2.0",
            "_view_name": "LayoutView",
            "align_content": null,
            "align_items": null,
            "align_self": null,
            "border": null,
            "bottom": null,
            "display": null,
            "flex": null,
            "flex_flow": null,
            "grid_area": null,
            "grid_auto_columns": null,
            "grid_auto_flow": null,
            "grid_auto_rows": null,
            "grid_column": null,
            "grid_gap": null,
            "grid_row": null,
            "grid_template_areas": null,
            "grid_template_columns": null,
            "grid_template_rows": null,
            "height": null,
            "justify_content": null,
            "justify_items": null,
            "left": null,
            "margin": null,
            "max_height": null,
            "max_width": null,
            "min_height": null,
            "min_width": null,
            "object_fit": null,
            "object_position": null,
            "order": null,
            "overflow": null,
            "overflow_x": null,
            "overflow_y": null,
            "padding": null,
            "right": null,
            "top": null,
            "visibility": null,
            "width": null
          }
        },
        "65cfb974922145b685b3bb651f0a453e": {
          "model_module": "@jupyter-widgets/controls",
          "model_name": "DescriptionStyleModel",
          "model_module_version": "1.5.0",
          "state": {
            "_model_module": "@jupyter-widgets/controls",
            "_model_module_version": "1.5.0",
            "_model_name": "DescriptionStyleModel",
            "_view_count": null,
            "_view_module": "@jupyter-widgets/base",
            "_view_module_version": "1.2.0",
            "_view_name": "StyleView",
            "description_width": ""
          }
        }
      }
    }
  },
  "nbformat": 4,
  "nbformat_minor": 5
}