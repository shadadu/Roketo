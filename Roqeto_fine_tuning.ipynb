{
  "cells": [
    {
      "cell_type": "code",
      "source": [
        "!pip install -U datasets huggingface_hub fsspec"
      ],
      "metadata": {
        "colab": {
          "base_uri": "https://localhost:8080/"
        },
        "id": "M2YpcxAPOP1u",
        "outputId": "d10bf66e-8585-462f-b16b-723db22b1533"
      },
      "id": "M2YpcxAPOP1u",
      "execution_count": 1,
      "outputs": [
        {
          "output_type": "stream",
          "name": "stdout",
          "text": [
            "Requirement already satisfied: datasets in /usr/local/lib/python3.11/dist-packages (3.6.0)\n",
            "Requirement already satisfied: huggingface_hub in /usr/local/lib/python3.11/dist-packages (0.32.2)\n",
            "Requirement already satisfied: fsspec in /usr/local/lib/python3.11/dist-packages (2025.3.0)\n",
            "Collecting fsspec\n",
            "  Using cached fsspec-2025.5.1-py3-none-any.whl.metadata (11 kB)\n",
            "Requirement already satisfied: filelock in /usr/local/lib/python3.11/dist-packages (from datasets) (3.18.0)\n",
            "Requirement already satisfied: numpy>=1.17 in /usr/local/lib/python3.11/dist-packages (from datasets) (2.0.2)\n",
            "Requirement already satisfied: pyarrow>=15.0.0 in /usr/local/lib/python3.11/dist-packages (from datasets) (18.1.0)\n",
            "Requirement already satisfied: dill<0.3.9,>=0.3.0 in /usr/local/lib/python3.11/dist-packages (from datasets) (0.3.7)\n",
            "Requirement already satisfied: pandas in /usr/local/lib/python3.11/dist-packages (from datasets) (2.2.2)\n",
            "Requirement already satisfied: requests>=2.32.2 in /usr/local/lib/python3.11/dist-packages (from datasets) (2.32.3)\n",
            "Requirement already satisfied: tqdm>=4.66.3 in /usr/local/lib/python3.11/dist-packages (from datasets) (4.67.1)\n",
            "Requirement already satisfied: xxhash in /usr/local/lib/python3.11/dist-packages (from datasets) (3.5.0)\n",
            "Requirement already satisfied: multiprocess<0.70.17 in /usr/local/lib/python3.11/dist-packages (from datasets) (0.70.15)\n",
            "Requirement already satisfied: packaging in /usr/local/lib/python3.11/dist-packages (from datasets) (24.2)\n",
            "Requirement already satisfied: pyyaml>=5.1 in /usr/local/lib/python3.11/dist-packages (from datasets) (6.0.2)\n",
            "Requirement already satisfied: typing-extensions>=3.7.4.3 in /usr/local/lib/python3.11/dist-packages (from huggingface_hub) (4.13.2)\n",
            "Requirement already satisfied: hf-xet<2.0.0,>=1.1.2 in /usr/local/lib/python3.11/dist-packages (from huggingface_hub) (1.1.2)\n",
            "Requirement already satisfied: aiohttp!=4.0.0a0,!=4.0.0a1 in /usr/local/lib/python3.11/dist-packages (from fsspec[http]<=2025.3.0,>=2023.1.0->datasets) (3.11.15)\n",
            "Requirement already satisfied: charset-normalizer<4,>=2 in /usr/local/lib/python3.11/dist-packages (from requests>=2.32.2->datasets) (3.4.2)\n",
            "Requirement already satisfied: idna<4,>=2.5 in /usr/local/lib/python3.11/dist-packages (from requests>=2.32.2->datasets) (3.10)\n",
            "Requirement already satisfied: urllib3<3,>=1.21.1 in /usr/local/lib/python3.11/dist-packages (from requests>=2.32.2->datasets) (2.4.0)\n",
            "Requirement already satisfied: certifi>=2017.4.17 in /usr/local/lib/python3.11/dist-packages (from requests>=2.32.2->datasets) (2025.4.26)\n",
            "Requirement already satisfied: python-dateutil>=2.8.2 in /usr/local/lib/python3.11/dist-packages (from pandas->datasets) (2.9.0.post0)\n",
            "Requirement already satisfied: pytz>=2020.1 in /usr/local/lib/python3.11/dist-packages (from pandas->datasets) (2025.2)\n",
            "Requirement already satisfied: tzdata>=2022.7 in /usr/local/lib/python3.11/dist-packages (from pandas->datasets) (2025.2)\n",
            "Requirement already satisfied: aiohappyeyeballs>=2.3.0 in /usr/local/lib/python3.11/dist-packages (from aiohttp!=4.0.0a0,!=4.0.0a1->fsspec[http]<=2025.3.0,>=2023.1.0->datasets) (2.6.1)\n",
            "Requirement already satisfied: aiosignal>=1.1.2 in /usr/local/lib/python3.11/dist-packages (from aiohttp!=4.0.0a0,!=4.0.0a1->fsspec[http]<=2025.3.0,>=2023.1.0->datasets) (1.3.2)\n",
            "Requirement already satisfied: attrs>=17.3.0 in /usr/local/lib/python3.11/dist-packages (from aiohttp!=4.0.0a0,!=4.0.0a1->fsspec[http]<=2025.3.0,>=2023.1.0->datasets) (25.3.0)\n",
            "Requirement already satisfied: frozenlist>=1.1.1 in /usr/local/lib/python3.11/dist-packages (from aiohttp!=4.0.0a0,!=4.0.0a1->fsspec[http]<=2025.3.0,>=2023.1.0->datasets) (1.6.0)\n",
            "Requirement already satisfied: multidict<7.0,>=4.5 in /usr/local/lib/python3.11/dist-packages (from aiohttp!=4.0.0a0,!=4.0.0a1->fsspec[http]<=2025.3.0,>=2023.1.0->datasets) (6.4.3)\n",
            "Requirement already satisfied: propcache>=0.2.0 in /usr/local/lib/python3.11/dist-packages (from aiohttp!=4.0.0a0,!=4.0.0a1->fsspec[http]<=2025.3.0,>=2023.1.0->datasets) (0.3.1)\n",
            "Requirement already satisfied: yarl<2.0,>=1.17.0 in /usr/local/lib/python3.11/dist-packages (from aiohttp!=4.0.0a0,!=4.0.0a1->fsspec[http]<=2025.3.0,>=2023.1.0->datasets) (1.20.0)\n",
            "Requirement already satisfied: six>=1.5 in /usr/local/lib/python3.11/dist-packages (from python-dateutil>=2.8.2->pandas->datasets) (1.17.0)\n"
          ]
        }
      ]
    },
    {
      "cell_type": "code",
      "execution_count": 2,
      "id": "8fe3320a-fdca-4851-a565-6bcc4282c509",
      "metadata": {
        "id": "8fe3320a-fdca-4851-a565-6bcc4282c509"
      },
      "outputs": [],
      "source": [
        "import torch\n",
        "import torch.nn as nn\n",
        "from transformers import AutoTokenizer, AutoModelForCausalLM, AutoModelForQuestionAnswering, Trainer, TrainingArguments, DataCollatorForLanguageModeling\n",
        "from datasets import load_dataset, Dataset, concatenate_datasets\n",
        "import json\n",
        "import os\n",
        "import accelerate"
      ]
    },
    {
      "cell_type": "code",
      "execution_count": 3,
      "id": "lEvyQxuPxFt_",
      "metadata": {
        "colab": {
          "base_uri": "https://localhost:8080/"
        },
        "id": "lEvyQxuPxFt_",
        "outputId": "e6571d91-f8a3-4fe5-b154-078bfbaf098a"
      },
      "outputs": [
        {
          "output_type": "stream",
          "name": "stdout",
          "text": [
            "Drive already mounted at /content/MyDrive; to attempt to forcibly remount, call drive.mount(\"/content/MyDrive\", force_remount=True).\n"
          ]
        }
      ],
      "source": [
        "from google.colab import drive\n",
        "drive.mount('/content/MyDrive')"
      ]
    },
    {
      "cell_type": "code",
      "execution_count": 4,
      "id": "1bf9088a-0161-4137-b7fc-494d2a584a21",
      "metadata": {
        "colab": {
          "base_uri": "https://localhost:8080/",
          "height": 35
        },
        "id": "1bf9088a-0161-4137-b7fc-494d2a584a21",
        "outputId": "9d3f3f69-6b4f-40fe-9c98-e7a75d74114b"
      },
      "outputs": [
        {
          "output_type": "execute_result",
          "data": {
            "text/plain": [
              "'/content/drive/MyDrive/Models'"
            ],
            "application/vnd.google.colaboratory.intrinsic+json": {
              "type": "string"
            }
          },
          "metadata": {},
          "execution_count": 4
        }
      ],
      "source": [
        "# data_dir = \"/content/drive/MyDrive/Data\"\n",
        "model_dir = \"/content/drive/MyDrive/Models\"\n",
        "model_dir"
      ]
    },
    {
      "cell_type": "code",
      "execution_count": 5,
      "id": "5258adb6-4751-4685-ac0c-090369b847f9",
      "metadata": {
        "id": "5258adb6-4751-4685-ac0c-090369b847f9"
      },
      "outputs": [],
      "source": [
        "# ====== Config ======\n",
        "# model_name = \"microsoft/phi-1\"\n",
        "model_name = \"Salesforce/codegen-350M-mono\"\n",
        "output_dir = model_dir + \"/rocketry-roqeto-model\""
      ]
    },
    {
      "cell_type": "code",
      "execution_count": 7,
      "id": "12986559-8b17-457e-8232-afa78613a827",
      "metadata": {
        "id": "12986559-8b17-457e-8232-afa78613a827"
      },
      "outputs": [],
      "source": [
        "# ====== Load Dataset ======\n",
        "def load_json_dataset1(data):\n",
        "    return Dataset.from_list([{\n",
        "       \"text\": f\"Question: {item['question']}\\nAnswer: {item['answer']}\"\n",
        "    } for item in dataset1[\"train\"][\"spacesystems\"][0:3500] ])\n",
        "\n",
        "def load_json_dataset2(data):\n",
        "    return Dataset.from_list([{\n",
        "       \"text\": f\"Question: {item['question']}\\nAnswer: {item['answer']}\"\n",
        "    } for item in dataset2[\"train\"] ])"
      ]
    },
    {
      "cell_type": "code",
      "source": [
        "dataset1 = load_dataset(\"shaddie/space_systems_qas_dataset\")\n",
        "data1 = load_json_dataset1(dataset1)\n"
      ],
      "metadata": {
        "colab": {
          "base_uri": "https://localhost:8080/"
        },
        "id": "uqPrI13JQAw4",
        "outputId": "52024c46-aa1d-49fd-cedb-c53ec85f9983"
      },
      "id": "uqPrI13JQAw4",
      "execution_count": 8,
      "outputs": [
        {
          "output_type": "stream",
          "name": "stderr",
          "text": [
            "/usr/local/lib/python3.11/dist-packages/huggingface_hub/utils/_auth.py:94: UserWarning: \n",
            "The secret `HF_TOKEN` does not exist in your Colab secrets.\n",
            "To authenticate with the Hugging Face Hub, create a token in your settings tab (https://huggingface.co/settings/tokens), set it as secret in your Google Colab and restart your session.\n",
            "You will be able to reuse this secret in all of your notebooks.\n",
            "Please note that authentication is recommended but still optional to access public models or datasets.\n",
            "  warnings.warn(\n"
          ]
        }
      ]
    },
    {
      "cell_type": "code",
      "source": [
        "data1"
      ],
      "metadata": {
        "colab": {
          "base_uri": "https://localhost:8080/"
        },
        "id": "7d5_6u0BBT9h",
        "outputId": "e3f876a8-8094-4bc2-cff8-40ae2026e09f"
      },
      "id": "7d5_6u0BBT9h",
      "execution_count": 9,
      "outputs": [
        {
          "output_type": "execute_result",
          "data": {
            "text/plain": [
              "Dataset({\n",
              "    features: ['text'],\n",
              "    num_rows: 3500\n",
              "})"
            ]
          },
          "metadata": {},
          "execution_count": 9
        }
      ]
    },
    {
      "cell_type": "code",
      "source": [
        "dataset2 = load_dataset(\"shaddie/rocketry_qas_dataset\")\n",
        "data2 = load_json_dataset2(dataset2)"
      ],
      "metadata": {
        "id": "HQ1VPo0f47Ss"
      },
      "id": "HQ1VPo0f47Ss",
      "execution_count": 10,
      "outputs": []
    },
    {
      "cell_type": "code",
      "source": [
        "data2"
      ],
      "metadata": {
        "colab": {
          "base_uri": "https://localhost:8080/"
        },
        "id": "RLydBURZAzvR",
        "outputId": "c51bd080-3c2a-4c48-b3c7-4454e908515e"
      },
      "id": "RLydBURZAzvR",
      "execution_count": 11,
      "outputs": [
        {
          "output_type": "execute_result",
          "data": {
            "text/plain": [
              "Dataset({\n",
              "    features: ['text'],\n",
              "    num_rows: 757\n",
              "})"
            ]
          },
          "metadata": {},
          "execution_count": 11
        }
      ]
    },
    {
      "cell_type": "code",
      "source": [
        "dataset = concatenate_datasets([data1, data2])"
      ],
      "metadata": {
        "id": "dDuhYB3jG9TZ"
      },
      "id": "dDuhYB3jG9TZ",
      "execution_count": 12,
      "outputs": []
    },
    {
      "cell_type": "code",
      "source": [
        "dataset"
      ],
      "metadata": {
        "colab": {
          "base_uri": "https://localhost:8080/"
        },
        "id": "lGoWCkKNGuFv",
        "outputId": "58b2eb64-170b-4542-d96d-4da7b1e2ff03"
      },
      "id": "lGoWCkKNGuFv",
      "execution_count": 13,
      "outputs": [
        {
          "output_type": "execute_result",
          "data": {
            "text/plain": [
              "Dataset({\n",
              "    features: ['text'],\n",
              "    num_rows: 4257\n",
              "})"
            ]
          },
          "metadata": {},
          "execution_count": 13
        }
      ]
    },
    {
      "cell_type": "code",
      "execution_count": 14,
      "id": "c374b545-877d-4ddb-94f2-016adea569c8",
      "metadata": {
        "colab": {
          "base_uri": "https://localhost:8080/"
        },
        "id": "c374b545-877d-4ddb-94f2-016adea569c8",
        "outputId": "3394f851-21fe-49c2-f31e-76e05916899c"
      },
      "outputs": [
        {
          "output_type": "stream",
          "name": "stderr",
          "text": [
            "Some weights of the model checkpoint at Salesforce/codegen-350M-mono were not used when initializing CodeGenForCausalLM: ['transformer.h.0.attn.causal_mask', 'transformer.h.1.attn.causal_mask', 'transformer.h.10.attn.causal_mask', 'transformer.h.11.attn.causal_mask', 'transformer.h.12.attn.causal_mask', 'transformer.h.13.attn.causal_mask', 'transformer.h.14.attn.causal_mask', 'transformer.h.15.attn.causal_mask', 'transformer.h.16.attn.causal_mask', 'transformer.h.17.attn.causal_mask', 'transformer.h.18.attn.causal_mask', 'transformer.h.19.attn.causal_mask', 'transformer.h.2.attn.causal_mask', 'transformer.h.3.attn.causal_mask', 'transformer.h.4.attn.causal_mask', 'transformer.h.5.attn.causal_mask', 'transformer.h.6.attn.causal_mask', 'transformer.h.7.attn.causal_mask', 'transformer.h.8.attn.causal_mask', 'transformer.h.9.attn.causal_mask']\n",
            "- This IS expected if you are initializing CodeGenForCausalLM from the checkpoint of a model trained on another task or with another architecture (e.g. initializing a BertForSequenceClassification model from a BertForPreTraining model).\n",
            "- This IS NOT expected if you are initializing CodeGenForCausalLM from the checkpoint of a model that you expect to be exactly identical (initializing a BertForSequenceClassification model from a BertForSequenceClassification model).\n"
          ]
        }
      ],
      "source": [
        "# # Load tokenizer and model\n",
        "tokenizer = AutoTokenizer.from_pretrained(model_name)\n",
        "model = AutoModelForCausalLM.from_pretrained(model_name, device_map=\"auto\")"
      ]
    },
    {
      "cell_type": "code",
      "execution_count": 15,
      "id": "b7c54da9-8838-42ea-ba50-036fc0a7ddea",
      "metadata": {
        "id": "b7c54da9-8838-42ea-ba50-036fc0a7ddea"
      },
      "outputs": [],
      "source": [
        "data_collator = DataCollatorForLanguageModeling(tokenizer=tokenizer, mlm=False)"
      ]
    },
    {
      "cell_type": "code",
      "execution_count": 16,
      "id": "318c939b-524b-4272-988a-8b18e2ae8812",
      "metadata": {
        "colab": {
          "base_uri": "https://localhost:8080/"
        },
        "id": "318c939b-524b-4272-988a-8b18e2ae8812",
        "outputId": "7c51ef16-3587-43f8-9219-196dec32dbc5"
      },
      "outputs": [
        {
          "output_type": "execute_result",
          "data": {
            "text/plain": [
              "1"
            ]
          },
          "metadata": {},
          "execution_count": 16
        }
      ],
      "source": [
        "tokenizer.add_special_tokens({'pad_token': '[PAD]'})"
      ]
    },
    {
      "cell_type": "code",
      "execution_count": 17,
      "id": "89a4196d-2abb-48c5-a17b-5470a22c17a7",
      "metadata": {
        "colab": {
          "base_uri": "https://localhost:8080/",
          "height": 49,
          "referenced_widgets": [
            "306f8e2e9ecf4e9ea40a1c884ab9284a",
            "a4fc50bfc4fd4e37aa5d0dfa397c7ed3",
            "4d11dc76f4d34ac3b01947c4e3d3b339",
            "4fbcbaf4fa974c47b3331aa2b77be916",
            "3aae3e28d2ff4b4aad3655a4292eaf97",
            "b68bd09eb44f4baebfd47685fd627b41",
            "9f01e033c38a49f8a1e46346b0a8c700",
            "419a32460b944f4e81004dd0c6381746",
            "46adf3978d5f43b496e3e5ac793c9082",
            "95e7c2191f524755a3ba549f8c4d2e5c",
            "6f16e49b0fe741ee9822c677fb2aba77"
          ]
        },
        "id": "89a4196d-2abb-48c5-a17b-5470a22c17a7",
        "outputId": "eb54e32e-9c33-4bb7-baa6-fb3d5da824a1"
      },
      "outputs": [
        {
          "output_type": "display_data",
          "data": {
            "text/plain": [
              "Map:   0%|          | 0/4257 [00:00<?, ? examples/s]"
            ],
            "application/vnd.jupyter.widget-view+json": {
              "version_major": 2,
              "version_minor": 0,
              "model_id": "306f8e2e9ecf4e9ea40a1c884ab9284a"
            }
          },
          "metadata": {}
        }
      ],
      "source": [
        "# Tokenize the dataset\n",
        "def tokenize(example):\n",
        "    # print(f'example {example[\"text\"]}')\n",
        "    return tokenizer(example[\"text\"], truncation=True, padding=\"max_length\", max_length=512)\n",
        "\n",
        "tokenized_dataset = dataset.map(tokenize, batched=True)"
      ]
    },
    {
      "cell_type": "code",
      "execution_count": 18,
      "id": "af6dc132-53e5-4f0a-bd4d-5b11235a4c36",
      "metadata": {
        "id": "af6dc132-53e5-4f0a-bd4d-5b11235a4c36"
      },
      "outputs": [],
      "source": [
        "data_collator = DataCollatorForLanguageModeling(tokenizer=tokenizer, mlm=False)"
      ]
    },
    {
      "cell_type": "code",
      "execution_count": 19,
      "id": "605ad6e0-029d-4ae2-b95d-505bc94aab63",
      "metadata": {
        "id": "605ad6e0-029d-4ae2-b95d-505bc94aab63"
      },
      "outputs": [],
      "source": [
        "# ====== Training Arguments ======\n",
        "training_args = TrainingArguments(\n",
        "    output_dir=output_dir,\n",
        "    per_device_train_batch_size=4,\n",
        "    num_train_epochs=5,\n",
        "    logging_steps=150,\n",
        "    save_steps=50,\n",
        "    save_total_limit=2,\n",
        "    warmup_steps=10,\n",
        "    weight_decay=0.01,\n",
        "    logging_dir=os.path.join(output_dir, \"logs\"),\n",
        "    fp16=torch.cuda.is_available(),\n",
        "    report_to=\"none\",\n",
        ")"
      ]
    },
    {
      "cell_type": "code",
      "execution_count": 20,
      "id": "b3dd4e62-5919-4a4c-bf48-600a18eae378",
      "metadata": {
        "colab": {
          "base_uri": "https://localhost:8080/"
        },
        "id": "b3dd4e62-5919-4a4c-bf48-600a18eae378",
        "outputId": "5cad36a9-12d4-4af0-fa35-34696f4c5805"
      },
      "outputs": [
        {
          "output_type": "stream",
          "name": "stderr",
          "text": [
            "<ipython-input-20-0170af16dc0f>:2: FutureWarning: `tokenizer` is deprecated and will be removed in version 5.0.0 for `Trainer.__init__`. Use `processing_class` instead.\n",
            "  trainer = Trainer(\n"
          ]
        }
      ],
      "source": [
        "# ====== Trainer ======\n",
        "trainer = Trainer(\n",
        "    model=model,\n",
        "    args=training_args,\n",
        "    train_dataset=tokenized_dataset,\n",
        "    tokenizer=tokenizer,\n",
        "    data_collator=data_collator,\n",
        ")"
      ]
    },
    {
      "cell_type": "code",
      "execution_count": 21,
      "id": "e229c665-fd06-46ac-93d8-cdb9fdb39136",
      "metadata": {
        "colab": {
          "base_uri": "https://localhost:8080/",
          "height": 1000
        },
        "id": "e229c665-fd06-46ac-93d8-cdb9fdb39136",
        "outputId": "b6e2353c-ef36-4969-ae64-6e4d93764ac9"
      },
      "outputs": [
        {
          "data": {
            "text/html": [
              "\n",
              "    <div>\n",
              "      \n",
              "      <progress value='3301' max='5325' style='width:300px; height:20px; vertical-align: middle;'></progress>\n",
              "      [3301/5325 41:36 < 25:31, 1.32 it/s, Epoch 3.10/5]\n",
              "    </div>\n",
              "    <table border=\"1\" class=\"dataframe\">\n",
              "  <thead>\n",
              " <tr style=\"text-align: left;\">\n",
              "      <th>Step</th>\n",
              "      <th>Training Loss</th>\n",
              "    </tr>\n",
              "  </thead>\n",
              "  <tbody>\n",
              "    <tr>\n",
              "      <td>150</td>\n",
              "      <td>3.595800</td>\n",
              "    </tr>\n",
              "    <tr>\n",
              "      <td>300</td>\n",
              "      <td>3.463800</td>\n",
              "    </tr>\n",
              "    <tr>\n",
              "      <td>450</td>\n",
              "      <td>3.501800</td>\n",
              "    </tr>\n",
              "    <tr>\n",
              "      <td>600</td>\n",
              "      <td>3.407900</td>\n",
              "    </tr>\n",
              "    <tr>\n",
              "      <td>750</td>\n",
              "      <td>3.370600</td>\n",
              "    </tr>\n",
              "    <tr>\n",
              "      <td>900</td>\n",
              "      <td>3.343600</td>\n",
              "    </tr>\n",
              "    <tr>\n",
              "      <td>1050</td>\n",
              "      <td>3.358300</td>\n",
              "    </tr>\n",
              "    <tr>\n",
              "      <td>1200</td>\n",
              "      <td>2.298600</td>\n",
              "    </tr>\n",
              "    <tr>\n",
              "      <td>1350</td>\n",
              "      <td>2.303300</td>\n",
              "    </tr>\n",
              "    <tr>\n",
              "      <td>1500</td>\n",
              "      <td>2.246900</td>\n",
              "    </tr>\n",
              "    <tr>\n",
              "      <td>1650</td>\n",
              "      <td>2.305600</td>\n",
              "    </tr>\n",
              "    <tr>\n",
              "      <td>1800</td>\n",
              "      <td>2.296200</td>\n",
              "    </tr>\n",
              "    <tr>\n",
              "      <td>1950</td>\n",
              "      <td>2.222900</td>\n",
              "    </tr>\n",
              "    <tr>\n",
              "      <td>2100</td>\n",
              "      <td>2.203900</td>\n",
              "    </tr>\n",
              "    <tr>\n",
              "      <td>2250</td>\n",
              "      <td>1.330300</td>\n",
              "    </tr>\n",
              "    <tr>\n",
              "      <td>2400</td>\n",
              "      <td>1.102000</td>\n",
              "    </tr>\n",
              "    <tr>\n",
              "      <td>2550</td>\n",
              "      <td>1.119700</td>\n",
              "    </tr>\n",
              "    <tr>\n",
              "      <td>2700</td>\n",
              "      <td>1.110100</td>\n",
              "    </tr>\n",
              "    <tr>\n",
              "      <td>2850</td>\n",
              "      <td>1.133000</td>\n",
              "    </tr>\n",
              "    <tr>\n",
              "      <td>3000</td>\n",
              "      <td>1.127300</td>\n",
              "    </tr>\n",
              "    <tr>\n",
              "      <td>3150</td>\n",
              "      <td>1.149400</td>\n",
              "    </tr>\n",
              "  </tbody>\n",
              "</table><p>"
            ],
            "text/plain": [
              "<IPython.core.display.HTML object>"
            ]
          },
          "metadata": {},
          "output_type": "display_data"
        },
        {
          "output_type": "display_data",
          "data": {
            "text/plain": [
              "<IPython.core.display.HTML object>"
            ],
            "text/html": [
              "\n",
              "    <div>\n",
              "      \n",
              "      <progress value='5325' max='5325' style='width:300px; height:20px; vertical-align: middle;'></progress>\n",
              "      [5325/5325 1:07:59, Epoch 5/5]\n",
              "    </div>\n",
              "    <table border=\"1\" class=\"dataframe\">\n",
              "  <thead>\n",
              " <tr style=\"text-align: left;\">\n",
              "      <th>Step</th>\n",
              "      <th>Training Loss</th>\n",
              "    </tr>\n",
              "  </thead>\n",
              "  <tbody>\n",
              "    <tr>\n",
              "      <td>150</td>\n",
              "      <td>3.595800</td>\n",
              "    </tr>\n",
              "    <tr>\n",
              "      <td>300</td>\n",
              "      <td>3.463800</td>\n",
              "    </tr>\n",
              "    <tr>\n",
              "      <td>450</td>\n",
              "      <td>3.501800</td>\n",
              "    </tr>\n",
              "    <tr>\n",
              "      <td>600</td>\n",
              "      <td>3.407900</td>\n",
              "    </tr>\n",
              "    <tr>\n",
              "      <td>750</td>\n",
              "      <td>3.370600</td>\n",
              "    </tr>\n",
              "    <tr>\n",
              "      <td>900</td>\n",
              "      <td>3.343600</td>\n",
              "    </tr>\n",
              "    <tr>\n",
              "      <td>1050</td>\n",
              "      <td>3.358300</td>\n",
              "    </tr>\n",
              "    <tr>\n",
              "      <td>1200</td>\n",
              "      <td>2.298600</td>\n",
              "    </tr>\n",
              "    <tr>\n",
              "      <td>1350</td>\n",
              "      <td>2.303300</td>\n",
              "    </tr>\n",
              "    <tr>\n",
              "      <td>1500</td>\n",
              "      <td>2.246900</td>\n",
              "    </tr>\n",
              "    <tr>\n",
              "      <td>1650</td>\n",
              "      <td>2.305600</td>\n",
              "    </tr>\n",
              "    <tr>\n",
              "      <td>1800</td>\n",
              "      <td>2.296200</td>\n",
              "    </tr>\n",
              "    <tr>\n",
              "      <td>1950</td>\n",
              "      <td>2.222900</td>\n",
              "    </tr>\n",
              "    <tr>\n",
              "      <td>2100</td>\n",
              "      <td>2.203900</td>\n",
              "    </tr>\n",
              "    <tr>\n",
              "      <td>2250</td>\n",
              "      <td>1.330300</td>\n",
              "    </tr>\n",
              "    <tr>\n",
              "      <td>2400</td>\n",
              "      <td>1.102000</td>\n",
              "    </tr>\n",
              "    <tr>\n",
              "      <td>2550</td>\n",
              "      <td>1.119700</td>\n",
              "    </tr>\n",
              "    <tr>\n",
              "      <td>2700</td>\n",
              "      <td>1.110100</td>\n",
              "    </tr>\n",
              "    <tr>\n",
              "      <td>2850</td>\n",
              "      <td>1.133000</td>\n",
              "    </tr>\n",
              "    <tr>\n",
              "      <td>3000</td>\n",
              "      <td>1.127300</td>\n",
              "    </tr>\n",
              "    <tr>\n",
              "      <td>3150</td>\n",
              "      <td>1.149400</td>\n",
              "    </tr>\n",
              "    <tr>\n",
              "      <td>3300</td>\n",
              "      <td>0.633900</td>\n",
              "    </tr>\n",
              "    <tr>\n",
              "      <td>3450</td>\n",
              "      <td>0.475400</td>\n",
              "    </tr>\n",
              "    <tr>\n",
              "      <td>3600</td>\n",
              "      <td>0.457400</td>\n",
              "    </tr>\n",
              "    <tr>\n",
              "      <td>3750</td>\n",
              "      <td>0.452000</td>\n",
              "    </tr>\n",
              "    <tr>\n",
              "      <td>3900</td>\n",
              "      <td>0.449900</td>\n",
              "    </tr>\n",
              "    <tr>\n",
              "      <td>4050</td>\n",
              "      <td>0.452100</td>\n",
              "    </tr>\n",
              "    <tr>\n",
              "      <td>4200</td>\n",
              "      <td>0.441500</td>\n",
              "    </tr>\n",
              "    <tr>\n",
              "      <td>4350</td>\n",
              "      <td>0.330300</td>\n",
              "    </tr>\n",
              "    <tr>\n",
              "      <td>4500</td>\n",
              "      <td>0.225000</td>\n",
              "    </tr>\n",
              "    <tr>\n",
              "      <td>4650</td>\n",
              "      <td>0.225700</td>\n",
              "    </tr>\n",
              "    <tr>\n",
              "      <td>4800</td>\n",
              "      <td>0.231000</td>\n",
              "    </tr>\n",
              "    <tr>\n",
              "      <td>4950</td>\n",
              "      <td>0.231100</td>\n",
              "    </tr>\n",
              "    <tr>\n",
              "      <td>5100</td>\n",
              "      <td>0.228000</td>\n",
              "    </tr>\n",
              "    <tr>\n",
              "      <td>5250</td>\n",
              "      <td>0.226200</td>\n",
              "    </tr>\n",
              "  </tbody>\n",
              "</table><p>"
            ]
          },
          "metadata": {}
        },
        {
          "output_type": "execute_result",
          "data": {
            "text/plain": [
              "TrainOutput(global_step=5325, training_loss=1.497214349916843, metrics={'train_runtime': 4080.5307, 'train_samples_per_second': 5.216, 'train_steps_per_second': 1.305, 'total_flos': 1.989635311927296e+16, 'train_loss': 1.497214349916843, 'epoch': 5.0})"
            ]
          },
          "metadata": {},
          "execution_count": 21
        }
      ],
      "source": [
        "# ====== Train ======\n",
        "trainer.train()"
      ]
    },
    {
      "cell_type": "code",
      "execution_count": 34,
      "id": "82e5cd5d-1cb8-4d1a-9f1d-21e864ca07fb",
      "metadata": {
        "id": "82e5cd5d-1cb8-4d1a-9f1d-21e864ca07fb"
      },
      "outputs": [],
      "source": [
        "def query_model(prompt, max_new_tokens=368):\n",
        "    inputs = tokenizer(prompt, return_tensors=\"pt\").to(model.device)\n",
        "    outputs = model.generate(**inputs, max_new_tokens=max_new_tokens)\n",
        "    return tokenizer.decode(outputs[0], skip_special_tokens=True)"
      ]
    },
    {
      "cell_type": "code",
      "execution_count": 35,
      "id": "a0ec566a-af28-43aa-a609-ff7c01463f07",
      "metadata": {
        "colab": {
          "base_uri": "https://localhost:8080/"
        },
        "id": "a0ec566a-af28-43aa-a609-ff7c01463f07",
        "outputId": "4cd127ab-355c-49ef-ccdc-bae1369708dd"
      },
      "outputs": [
        {
          "output_type": "stream",
          "name": "stderr",
          "text": [
            "Setting `pad_token_id` to `eos_token_id`:50256 for open-end generation.\n"
          ]
        },
        {
          "output_type": "stream",
          "name": "stdout",
          "text": [
            "How would you launch a rocket with optimal fuel for reaching space?\n",
            "I am interested in if the optimal fuel for reaching space is more like 'gauge point' than the rocket itself. I am talking about the rocket equation: \n",
            " Space is:  $\\Delta v = v_e \\cdot g_0$  where  $g_0$  is the fuel mass available to produce a delta v,  $v_e$  is the exhaust velocity (when multiplied by g_0 to give exhaust velocity as a function of time), and  $g_0$  is the fuel mass available to produce a delta v,  $v_e$  is the exhaust velocity (when multiplied by g_0 to give exhaust velocity as a function of time). \n",
            " The figure below is for  $v_e$  and  $g_0$  are functions of time. This makes the figure  $\\Delta v = v_e \\cdot g_0$  but  $g_0$  is the fuel mass available to produce a delta v,  $v_e$  is the exhaust velocity (when multiplied by g_0 to give exhaust velocity as a function of time), and  $g_0$  is the fuel mass available to produce a delta v,  $v_e$  is the exhaust velocity (when multiplied by g_0 to give exhaust velocity as a function of time). \n",
            " \n",
            " The figure below is for  $v_e$  and  $g_0$  are functions of time. This makes the figure  $\\Delta v = v_e \\cdot g_0$  but  $g_0$  is the fuel mass available to produce a delta v,  $v_e$  \n"
          ]
        }
      ],
      "source": [
        "print(query_model(\"How would you launch a rocket with optimal fuel for reaching space?\"))"
      ]
    },
    {
      "cell_type": "code",
      "execution_count": 37,
      "id": "ff17d7f7-f22f-40d4-9e37-8b88f7889e14",
      "metadata": {
        "id": "ff17d7f7-f22f-40d4-9e37-8b88f7889e14",
        "colab": {
          "base_uri": "https://localhost:8080/"
        },
        "outputId": "b1a1852c-42cc-4f55-c81e-f6e628aaf730"
      },
      "outputs": [
        {
          "output_type": "stream",
          "name": "stderr",
          "text": [
            "Setting `pad_token_id` to `eos_token_id`:50256 for open-end generation.\n"
          ]
        },
        {
          "output_type": "stream",
          "name": "stdout",
          "text": [
            "Question: Can you describe how you would construct a habitable space station in geosynchronous orbit?\n",
            "If you could construct a “ habitation space station” in geosynchronous orbit (having the satellite be a point mass) and one day has passed between the point and the end of the cycle, then you could describe how you would place a “ habitation planet” in geosynchronous orbit.\n",
            "Answer: The habitation and the Earth observation planets and moons might be in geosynchronous orbit. At the end of the cycle the satellite would be point mass. In this case the mass of the Earth and the Sun would be around 7.7 kg. Thus, the mass of the space station would be around 7.8 kg and the mass of the planet and moon might be around 3.5 kg. \n",
            " From the first video (see below) of the Starter Navigation System, the planets and moons could be in geosynchronous orbit, such as the Earth, the Sun and the Moon. \n",
            " https://www.youtube.com/shorts/GI6IevFWR0k \n",
            " https://www.youtube.com/shorts/GI6IevFWR0k \n",
            " https://www.youtube.com/shorts/GI6IevFWR0k \n",
            " https://www.youtube.com/shorts/GI6IevFWR0k \n",
            " https://www.youtube.com/shorts/GI6IevFWR0k \n",
            " https://www.youtube.com/shorts/GI6IevFWR0k \n",
            " https://www.youtube.com/shorts/GI6IevFWR0k \n",
            " https://www.youtube.com/shorts/GI6IevFWR0k \n",
            " https://www.youtube.com/shorts\n"
          ]
        }
      ],
      "source": [
        "# Example usage\n",
        "print(query_model(\"Question: Can you describe how you would construct a habitable space station in geosynchronous orbit?\"))"
      ]
    },
    {
      "cell_type": "code",
      "execution_count": 47,
      "id": "ALCGVNZ3ZYy2",
      "metadata": {
        "id": "ALCGVNZ3ZYy2",
        "colab": {
          "base_uri": "https://localhost:8080/"
        },
        "outputId": "60245363-cae9-4b41-ef8d-26ab97b9a9f5"
      },
      "outputs": [
        {
          "output_type": "stream",
          "name": "stderr",
          "text": [
            "Setting `pad_token_id` to `eos_token_id`:50256 for open-end generation.\n"
          ]
        },
        {
          "output_type": "stream",
          "name": "stdout",
          "text": [
            "How would you design or create artificial gravity in a space-ship traveliing in outer space?\n",
            "I've been doing some research on this but very much struggling to work it all out. I'm looking for a cutaway diagram of said rocket, but I can't for the life of me work out what rocket uses what propellant. Can anyone help? \n",
            " In terms of \"cutting-edge\" rockets, I'm trying to put most of the thrust into the thrust vector, as cutaway diagrammedicine, but the vector is too small to be a complete spin-polarized rocket. \n",
            " As pasted into the Cutaway diagram, were the direct payloads used in the 2000's? \n",
            " I have found a cutaway diagram of an elliptical rocket, which was used in the 2000s to put much of the payload into the thrust vector. I can't for the life of me work out what rocket uses what propellant, but the payload, and the other things being equal. \n",
            " What I am looking for is that the vector of thrust needs to be smaller than the vector of payload, so I'll put that in the thrust vector. I can't think of a cutaway diagram of that particular rocket, but the cutaway diagrammedicine seems to be correct. \n",
            " I have worked on this in the NASA Space Launch Pad, but I doesn't seem to comprehend how the important factors such as when the rocket is spin-polarized, what propellant is used in the burn-through of the propellant system (where the rocket is spin-polarized), and what is needed is the vector of thrust to burn through the propellant system (where the rocket is spin-polarized). \n",
            " I can't work out what the rocket uses in the burn-through of the propellant system (where the rocket is spin-polarized\n"
          ]
        }
      ],
      "source": [
        "print(query_model(\"How would you design or create artificial gravity in a space-ship traveliing in outer space?\"))"
      ]
    },
    {
      "cell_type": "code",
      "execution_count": null,
      "id": "f4095b0d-32f9-42cf-b070-e6d4131de535",
      "metadata": {
        "id": "f4095b0d-32f9-42cf-b070-e6d4131de535"
      },
      "outputs": [],
      "source": [
        "# ====== Save Model ======\n",
        "# trainer.save_model(output_dir)\n",
        "# tokenizer.save_pretrained(output_dir)"
      ]
    },
    {
      "cell_type": "code",
      "source": [
        "from huggingface_hub import notebook_login\n",
        "\n",
        "notebook_login()"
      ],
      "metadata": {
        "id": "DaDKC61mHNJ5"
      },
      "id": "DaDKC61mHNJ5",
      "execution_count": null,
      "outputs": []
    },
    {
      "cell_type": "code",
      "source": [
        "model.push_to_hub(\"shaddie/rocketry_roqeto_model\",\n",
        "                  use_auth_token=True,\n",
        "                  commit_message=\"fine-tuning-for-rocketry-knowledge\",\n",
        "                  private=True)"
      ],
      "metadata": {
        "id": "Z_GwdLDxHTOL"
      },
      "id": "Z_GwdLDxHTOL",
      "execution_count": null,
      "outputs": []
    }
  ],
  "metadata": {
    "accelerator": "GPU",
    "colab": {
      "gpuType": "L4",
      "provenance": []
    },
    "kernelspec": {
      "display_name": "gpu_torch",
      "language": "python",
      "name": "gpu_torch"
    },
    "language_info": {
      "codemirror_mode": {
        "name": "ipython",
        "version": 3
      },
      "file_extension": ".py",
      "mimetype": "text/x-python",
      "name": "python",
      "nbconvert_exporter": "python",
      "pygments_lexer": "ipython3",
      "version": "3.8.20"
    },
    "widgets": {
      "application/vnd.jupyter.widget-state+json": {
        "306f8e2e9ecf4e9ea40a1c884ab9284a": {
          "model_module": "@jupyter-widgets/controls",
          "model_name": "HBoxModel",
          "model_module_version": "1.5.0",
          "state": {
            "_dom_classes": [],
            "_model_module": "@jupyter-widgets/controls",
            "_model_module_version": "1.5.0",
            "_model_name": "HBoxModel",
            "_view_count": null,
            "_view_module": "@jupyter-widgets/controls",
            "_view_module_version": "1.5.0",
            "_view_name": "HBoxView",
            "box_style": "",
            "children": [
              "IPY_MODEL_a4fc50bfc4fd4e37aa5d0dfa397c7ed3",
              "IPY_MODEL_4d11dc76f4d34ac3b01947c4e3d3b339",
              "IPY_MODEL_4fbcbaf4fa974c47b3331aa2b77be916"
            ],
            "layout": "IPY_MODEL_3aae3e28d2ff4b4aad3655a4292eaf97"
          }
        },
        "a4fc50bfc4fd4e37aa5d0dfa397c7ed3": {
          "model_module": "@jupyter-widgets/controls",
          "model_name": "HTMLModel",
          "model_module_version": "1.5.0",
          "state": {
            "_dom_classes": [],
            "_model_module": "@jupyter-widgets/controls",
            "_model_module_version": "1.5.0",
            "_model_name": "HTMLModel",
            "_view_count": null,
            "_view_module": "@jupyter-widgets/controls",
            "_view_module_version": "1.5.0",
            "_view_name": "HTMLView",
            "description": "",
            "description_tooltip": null,
            "layout": "IPY_MODEL_b68bd09eb44f4baebfd47685fd627b41",
            "placeholder": "​",
            "style": "IPY_MODEL_9f01e033c38a49f8a1e46346b0a8c700",
            "value": "Map: 100%"
          }
        },
        "4d11dc76f4d34ac3b01947c4e3d3b339": {
          "model_module": "@jupyter-widgets/controls",
          "model_name": "FloatProgressModel",
          "model_module_version": "1.5.0",
          "state": {
            "_dom_classes": [],
            "_model_module": "@jupyter-widgets/controls",
            "_model_module_version": "1.5.0",
            "_model_name": "FloatProgressModel",
            "_view_count": null,
            "_view_module": "@jupyter-widgets/controls",
            "_view_module_version": "1.5.0",
            "_view_name": "ProgressView",
            "bar_style": "success",
            "description": "",
            "description_tooltip": null,
            "layout": "IPY_MODEL_419a32460b944f4e81004dd0c6381746",
            "max": 4257,
            "min": 0,
            "orientation": "horizontal",
            "style": "IPY_MODEL_46adf3978d5f43b496e3e5ac793c9082",
            "value": 4257
          }
        },
        "4fbcbaf4fa974c47b3331aa2b77be916": {
          "model_module": "@jupyter-widgets/controls",
          "model_name": "HTMLModel",
          "model_module_version": "1.5.0",
          "state": {
            "_dom_classes": [],
            "_model_module": "@jupyter-widgets/controls",
            "_model_module_version": "1.5.0",
            "_model_name": "HTMLModel",
            "_view_count": null,
            "_view_module": "@jupyter-widgets/controls",
            "_view_module_version": "1.5.0",
            "_view_name": "HTMLView",
            "description": "",
            "description_tooltip": null,
            "layout": "IPY_MODEL_95e7c2191f524755a3ba549f8c4d2e5c",
            "placeholder": "​",
            "style": "IPY_MODEL_6f16e49b0fe741ee9822c677fb2aba77",
            "value": " 4257/4257 [00:01&lt;00:00, 3609.60 examples/s]"
          }
        },
        "3aae3e28d2ff4b4aad3655a4292eaf97": {
          "model_module": "@jupyter-widgets/base",
          "model_name": "LayoutModel",
          "model_module_version": "1.2.0",
          "state": {
            "_model_module": "@jupyter-widgets/base",
            "_model_module_version": "1.2.0",
            "_model_name": "LayoutModel",
            "_view_count": null,
            "_view_module": "@jupyter-widgets/base",
            "_view_module_version": "1.2.0",
            "_view_name": "LayoutView",
            "align_content": null,
            "align_items": null,
            "align_self": null,
            "border": null,
            "bottom": null,
            "display": null,
            "flex": null,
            "flex_flow": null,
            "grid_area": null,
            "grid_auto_columns": null,
            "grid_auto_flow": null,
            "grid_auto_rows": null,
            "grid_column": null,
            "grid_gap": null,
            "grid_row": null,
            "grid_template_areas": null,
            "grid_template_columns": null,
            "grid_template_rows": null,
            "height": null,
            "justify_content": null,
            "justify_items": null,
            "left": null,
            "margin": null,
            "max_height": null,
            "max_width": null,
            "min_height": null,
            "min_width": null,
            "object_fit": null,
            "object_position": null,
            "order": null,
            "overflow": null,
            "overflow_x": null,
            "overflow_y": null,
            "padding": null,
            "right": null,
            "top": null,
            "visibility": null,
            "width": null
          }
        },
        "b68bd09eb44f4baebfd47685fd627b41": {
          "model_module": "@jupyter-widgets/base",
          "model_name": "LayoutModel",
          "model_module_version": "1.2.0",
          "state": {
            "_model_module": "@jupyter-widgets/base",
            "_model_module_version": "1.2.0",
            "_model_name": "LayoutModel",
            "_view_count": null,
            "_view_module": "@jupyter-widgets/base",
            "_view_module_version": "1.2.0",
            "_view_name": "LayoutView",
            "align_content": null,
            "align_items": null,
            "align_self": null,
            "border": null,
            "bottom": null,
            "display": null,
            "flex": null,
            "flex_flow": null,
            "grid_area": null,
            "grid_auto_columns": null,
            "grid_auto_flow": null,
            "grid_auto_rows": null,
            "grid_column": null,
            "grid_gap": null,
            "grid_row": null,
            "grid_template_areas": null,
            "grid_template_columns": null,
            "grid_template_rows": null,
            "height": null,
            "justify_content": null,
            "justify_items": null,
            "left": null,
            "margin": null,
            "max_height": null,
            "max_width": null,
            "min_height": null,
            "min_width": null,
            "object_fit": null,
            "object_position": null,
            "order": null,
            "overflow": null,
            "overflow_x": null,
            "overflow_y": null,
            "padding": null,
            "right": null,
            "top": null,
            "visibility": null,
            "width": null
          }
        },
        "9f01e033c38a49f8a1e46346b0a8c700": {
          "model_module": "@jupyter-widgets/controls",
          "model_name": "DescriptionStyleModel",
          "model_module_version": "1.5.0",
          "state": {
            "_model_module": "@jupyter-widgets/controls",
            "_model_module_version": "1.5.0",
            "_model_name": "DescriptionStyleModel",
            "_view_count": null,
            "_view_module": "@jupyter-widgets/base",
            "_view_module_version": "1.2.0",
            "_view_name": "StyleView",
            "description_width": ""
          }
        },
        "419a32460b944f4e81004dd0c6381746": {
          "model_module": "@jupyter-widgets/base",
          "model_name": "LayoutModel",
          "model_module_version": "1.2.0",
          "state": {
            "_model_module": "@jupyter-widgets/base",
            "_model_module_version": "1.2.0",
            "_model_name": "LayoutModel",
            "_view_count": null,
            "_view_module": "@jupyter-widgets/base",
            "_view_module_version": "1.2.0",
            "_view_name": "LayoutView",
            "align_content": null,
            "align_items": null,
            "align_self": null,
            "border": null,
            "bottom": null,
            "display": null,
            "flex": null,
            "flex_flow": null,
            "grid_area": null,
            "grid_auto_columns": null,
            "grid_auto_flow": null,
            "grid_auto_rows": null,
            "grid_column": null,
            "grid_gap": null,
            "grid_row": null,
            "grid_template_areas": null,
            "grid_template_columns": null,
            "grid_template_rows": null,
            "height": null,
            "justify_content": null,
            "justify_items": null,
            "left": null,
            "margin": null,
            "max_height": null,
            "max_width": null,
            "min_height": null,
            "min_width": null,
            "object_fit": null,
            "object_position": null,
            "order": null,
            "overflow": null,
            "overflow_x": null,
            "overflow_y": null,
            "padding": null,
            "right": null,
            "top": null,
            "visibility": null,
            "width": null
          }
        },
        "46adf3978d5f43b496e3e5ac793c9082": {
          "model_module": "@jupyter-widgets/controls",
          "model_name": "ProgressStyleModel",
          "model_module_version": "1.5.0",
          "state": {
            "_model_module": "@jupyter-widgets/controls",
            "_model_module_version": "1.5.0",
            "_model_name": "ProgressStyleModel",
            "_view_count": null,
            "_view_module": "@jupyter-widgets/base",
            "_view_module_version": "1.2.0",
            "_view_name": "StyleView",
            "bar_color": null,
            "description_width": ""
          }
        },
        "95e7c2191f524755a3ba549f8c4d2e5c": {
          "model_module": "@jupyter-widgets/base",
          "model_name": "LayoutModel",
          "model_module_version": "1.2.0",
          "state": {
            "_model_module": "@jupyter-widgets/base",
            "_model_module_version": "1.2.0",
            "_model_name": "LayoutModel",
            "_view_count": null,
            "_view_module": "@jupyter-widgets/base",
            "_view_module_version": "1.2.0",
            "_view_name": "LayoutView",
            "align_content": null,
            "align_items": null,
            "align_self": null,
            "border": null,
            "bottom": null,
            "display": null,
            "flex": null,
            "flex_flow": null,
            "grid_area": null,
            "grid_auto_columns": null,
            "grid_auto_flow": null,
            "grid_auto_rows": null,
            "grid_column": null,
            "grid_gap": null,
            "grid_row": null,
            "grid_template_areas": null,
            "grid_template_columns": null,
            "grid_template_rows": null,
            "height": null,
            "justify_content": null,
            "justify_items": null,
            "left": null,
            "margin": null,
            "max_height": null,
            "max_width": null,
            "min_height": null,
            "min_width": null,
            "object_fit": null,
            "object_position": null,
            "order": null,
            "overflow": null,
            "overflow_x": null,
            "overflow_y": null,
            "padding": null,
            "right": null,
            "top": null,
            "visibility": null,
            "width": null
          }
        },
        "6f16e49b0fe741ee9822c677fb2aba77": {
          "model_module": "@jupyter-widgets/controls",
          "model_name": "DescriptionStyleModel",
          "model_module_version": "1.5.0",
          "state": {
            "_model_module": "@jupyter-widgets/controls",
            "_model_module_version": "1.5.0",
            "_model_name": "DescriptionStyleModel",
            "_view_count": null,
            "_view_module": "@jupyter-widgets/base",
            "_view_module_version": "1.2.0",
            "_view_name": "StyleView",
            "description_width": ""
          }
        }
      }
    }
  },
  "nbformat": 4,
  "nbformat_minor": 5
}