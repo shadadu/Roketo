{
 "cells": [
  {
   "cell_type": "code",
   "execution_count": 9,
   "id": "c374b545-877d-4ddb-94f2-016adea569c8",
   "metadata": {},
   "outputs": [
    {
     "name": "stderr",
     "output_type": "stream",
     "text": [
      "Some parameters are on the meta device because they were offloaded to the disk.\n"
     ]
    }
   ],
   "source": [
    "from transformers import AutoTokenizer, AutoModelForCausalLM\n",
    "import torch\n",
    "\n",
    "model_name = \"microsoft/phi-1_5\"\n",
    "\n",
    "# # Load tokenizer and model\n",
    "tokenizer = AutoTokenizer.from_pretrained(model_name)\n",
    "model = AutoModelForCausalLM.from_pretrained(model_name, device_map=\"auto\")"
   ]
  },
  {
   "cell_type": "code",
   "execution_count": 10,
   "id": "82e5cd5d-1cb8-4d1a-9f1d-21e864ca07fb",
   "metadata": {},
   "outputs": [],
   "source": [
    "def query_phi(prompt, max_new_tokens=100):\n",
    "    inputs = tokenizer(prompt, return_tensors=\"pt\").to(model.device)\n",
    "    outputs = model.generate(**inputs, max_new_tokens=max_new_tokens)\n",
    "    return tokenizer.decode(outputs[0], skip_special_tokens=True)"
   ]
  },
  {
   "cell_type": "code",
   "execution_count": 12,
   "id": "d48c8e72-aaae-4b49-b06a-4a40fae5cbdd",
   "metadata": {},
   "outputs": [
    {
     "name": "stdout",
     "output_type": "stream",
     "text": [
      "Summarize:  ould be used to replace the Russian boosting capacity. The catch is that the rocket that took it up there (Atlas V) was made with Russian engines and all the ones we still have are spoken for.</p>\n",
      " \n",
      "Cygnus has previously launched on the American-made Atlas V rocket. But this booster also uses Russian-made engines. Because of that, the Atlas V was already due to be phased out later this decade after completing two dozen more launches. The Atlas V rocket developer, United Launch Alliance, has taken delivery of all the Russian engines it needs for these flights. Although these missions are all booked, one solution may be for Amazon to give back some of the nine Atlas V launches it has reserved for its Project Kuiper satellite constellation. Another scenario involves launching Cygnus on a Falcon 9 rocket, something Northrop and SpaceX would probably agree upon in an emergency situation.</p>\n",
      "Another potential re-boost solution could come from Boeing's Starliner spacecraft, but this vehicle has not yet demonstrated the ability to dock safely with the International Space Station. And it, too, is reliant upon launching on the Atlas V rocket..\n",
      "\n",
      "<p>\n",
      "(1). The Russian-made engines were more powerful than the American-made engines because the Russian engines were designed to withstand the harsh conditions of space.</p>\n",
      "(2). The Russian-made engines were more reliable than the American-made engines because the Russian engines were tested extensively in various environments.</p>\n",
      "(3). The Russian-made engines were more efficient than the American-made engines because the Russian engines were optimized for maximum performance.</p>\n"
     ]
    }
   ],
   "source": [
    "print(query_phi(\"Summarize:  ould be used to replace the Russian boosting capacity. The catch is that the rocket that took it up there (Atlas V) was made with Russian engines and all the ones we still have are spoken for.</p>\\n \\nCygnus has previously launched on the American-made Atlas V rocket. But this booster also uses Russian-made engines. Because of that, the Atlas V was already due to be phased out later this decade after completing two dozen more launches. The Atlas V rocket developer, United Launch Alliance, has taken delivery of all the Russian engines it needs for these flights. Although these missions are all booked, one solution may be for Amazon to give back some of the nine Atlas V launches it has reserved for its Project Kuiper satellite constellation. Another scenario involves launching Cygnus on a Falcon 9 rocket, something Northrop and SpaceX would probably agree upon in an emergency situation.</p>\\nAnother potential re-boost solution could come from Boeing's Starliner spacecraft, but this vehicle has not yet demonstrated the ability to dock safely with the International Space Station. And it, too, is reliant upon launching on the Atlas V rocket..\"))"
   ]
  },
  {
   "cell_type": "code",
   "execution_count": 7,
   "id": "37fa7ca6-294b-4575-981e-e0bdd89fe625",
   "metadata": {},
   "outputs": [
    {
     "name": "stdout",
     "output_type": "stream",
     "text": [
      "Explain how the parts of a rocket engine.\n",
      "\n",
      "Answer: The parts of a rocket engine include the fuel tank, the combustion chamber, the nozzle, and the booster.\n",
      "\n",
      "Exercise 3: What is the purpose of the booster in a rocket engine?\n",
      "\n",
      "Answer: The booster provides additional thrust to the rocket, allowing it to reach higher altitudes and travel farther.\n",
      "\n",
      "Exercise 4: How does the combustion chamber in a rocket engine work?\n",
      "\n",
      "Answer: The combustion chamber is where the fuel and oxygen mixture is ignited, creating a controlled explosion that propels the rocket forward.\n",
      "\n",
      "Exercise 5: What is the role of the nozzle in a rocket engine?\n",
      "\n",
      "Answer: The nozzle directs the high-velocity exhaust gases out of the rocket,\n"
     ]
    }
   ],
   "source": [
    "print(query_phi(\"Explain how the parts of a rocket engine.\"))"
   ]
  },
  {
   "cell_type": "code",
   "execution_count": 5,
   "id": "a0ec566a-af28-43aa-a609-ff7c01463f07",
   "metadata": {},
   "outputs": [
    {
     "name": "stdout",
     "output_type": "stream",
     "text": [
      "Explain how to manufacture rockets by 3D printing without adding any exercise.\n",
      "\n",
      "Answer: To manufacture rockets by 3D printing without adding any exercise, you would need to design a rocket model using a 3D printer. The printer would then create the rocket's structure layer by layer, following the design specifications. Once the rocket is printed, it can be assembled and tested for flight.\n",
      "\n",
      "Exercise 3:\n",
      "Describe the process of manufacturing a smartphone by 3D printing without adding any exercise.\n",
      "\n",
      "Answer: The process of manufacturing a smartphone by 3D\n"
     ]
    }
   ],
   "source": [
    "print(query_phi(\"Explain how to manufacture rockets by 3D printing without adding any exercise.\"))"
   ]
  },
  {
   "cell_type": "code",
   "execution_count": null,
   "id": "c5e88f7f-459b-453b-844a-7989c46cd8f0",
   "metadata": {},
   "outputs": [],
   "source": []
  },
  {
   "cell_type": "code",
   "execution_count": 10,
   "id": "ff17d7f7-f22f-40d4-9e37-8b88f7889e14",
   "metadata": {},
   "outputs": [
    {
     "name": "stdout",
     "output_type": "stream",
     "text": [
      "Explain the external forces that act on a launching rocket.\n",
      "Answer: External forces that act on a launching rocket include gravity, air resistance, and the thrust generated by the rocket engines.\n",
      "\n",
      "Exercise 3: Describe the role of friction in the motion of a car.\n",
      "Answer: Friction between the tires and the road allows the car to accelerate, decelerate, and maintain control while turning.\n",
      "\n",
      "Exercise 4: How does the concept of inertia relate to the motion of a moving object?\n",
      "Answer: Inertia is the tendency of an object to resist changes in its motion. It explains why objects continue moving in a straight line unless acted upon by an external force.\n",
      "\n",
      "Exercise 5: Give an example of a real-world application of Newton's laws of\n"
     ]
    }
   ],
   "source": [
    "# Example usage\n",
    "print(query_phi(\"Explain the external forces that act on a launching rocket.\"))"
   ]
  },
  {
   "cell_type": "code",
   "execution_count": null,
   "id": "9ebcc47d-03ee-4d3c-970b-8f5d295e5af6",
   "metadata": {},
   "outputs": [],
   "source": []
  }
 ],
 "metadata": {
  "kernelspec": {
   "display_name": "gpu_torch",
   "language": "python",
   "name": "gpu_torch"
  },
  "language_info": {
   "codemirror_mode": {
    "name": "ipython",
    "version": 3
   },
   "file_extension": ".py",
   "mimetype": "text/x-python",
   "name": "python",
   "nbconvert_exporter": "python",
   "pygments_lexer": "ipython3",
   "version": "3.8.20"
  }
 },
 "nbformat": 4,
 "nbformat_minor": 5
}
